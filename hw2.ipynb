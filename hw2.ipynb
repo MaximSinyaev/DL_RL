{
  "nbformat": 4,
  "nbformat_minor": 5,
  "metadata": {
    "kernelspec": {
      "display_name": "Python 3 (ipykernel)",
      "language": "python",
      "name": "python3"
    },
    "language_info": {
      "codemirror_mode": {
        "name": "ipython",
        "version": 3
      },
      "file_extension": ".py",
      "mimetype": "text/x-python",
      "name": "python",
      "nbconvert_exporter": "python",
      "pygments_lexer": "ipython3",
      "version": "3.8.8"
    },
    "colab": {
      "name": "hw2.ipynb",
      "provenance": []
    },
    "accelerator": "GPU",
    "widgets": {
      "application/vnd.jupyter.widget-state+json": {
        "6a70a4a203614dbbac4a606a6665679c": {
          "model_module": "@jupyter-widgets/controls",
          "model_name": "HBoxModel",
          "model_module_version": "1.5.0",
          "state": {
            "_view_name": "HBoxView",
            "_dom_classes": [],
            "_model_name": "HBoxModel",
            "_view_module": "@jupyter-widgets/controls",
            "_model_module_version": "1.5.0",
            "_view_count": null,
            "_view_module_version": "1.5.0",
            "box_style": "",
            "layout": "IPY_MODEL_0fce07210cdc412582928302b7ffb06e",
            "_model_module": "@jupyter-widgets/controls",
            "children": [
              "IPY_MODEL_420e353e2dc64d76a050863b6c5ce01c",
              "IPY_MODEL_08a74b5c62bd4299976a79d11a2eacff",
              "IPY_MODEL_75623c70af03462d9388d33d956035e7"
            ]
          }
        },
        "0fce07210cdc412582928302b7ffb06e": {
          "model_module": "@jupyter-widgets/base",
          "model_name": "LayoutModel",
          "model_module_version": "1.2.0",
          "state": {
            "_view_name": "LayoutView",
            "grid_template_rows": null,
            "right": null,
            "justify_content": null,
            "_view_module": "@jupyter-widgets/base",
            "overflow": null,
            "_model_module_version": "1.2.0",
            "_view_count": null,
            "flex_flow": null,
            "width": null,
            "min_width": null,
            "border": null,
            "align_items": null,
            "bottom": null,
            "_model_module": "@jupyter-widgets/base",
            "top": null,
            "grid_column": null,
            "overflow_y": null,
            "overflow_x": null,
            "grid_auto_flow": null,
            "grid_area": null,
            "grid_template_columns": null,
            "flex": null,
            "_model_name": "LayoutModel",
            "justify_items": null,
            "grid_row": null,
            "max_height": null,
            "align_content": null,
            "visibility": null,
            "align_self": null,
            "height": null,
            "min_height": null,
            "padding": null,
            "grid_auto_rows": null,
            "grid_gap": null,
            "max_width": null,
            "order": null,
            "_view_module_version": "1.2.0",
            "grid_template_areas": null,
            "object_position": null,
            "object_fit": null,
            "grid_auto_columns": null,
            "margin": null,
            "display": null,
            "left": null
          }
        },
        "420e353e2dc64d76a050863b6c5ce01c": {
          "model_module": "@jupyter-widgets/controls",
          "model_name": "HTMLModel",
          "model_module_version": "1.5.0",
          "state": {
            "_view_name": "HTMLView",
            "style": "IPY_MODEL_4d1f2f2a5f9c4f26b1812e1e4af5af56",
            "_dom_classes": [],
            "description": "",
            "_model_name": "HTMLModel",
            "placeholder": "​",
            "_view_module": "@jupyter-widgets/controls",
            "_model_module_version": "1.5.0",
            "value": "100%",
            "_view_count": null,
            "_view_module_version": "1.5.0",
            "description_tooltip": null,
            "_model_module": "@jupyter-widgets/controls",
            "layout": "IPY_MODEL_864d570c68294ed5839406b826131253"
          }
        },
        "08a74b5c62bd4299976a79d11a2eacff": {
          "model_module": "@jupyter-widgets/controls",
          "model_name": "FloatProgressModel",
          "model_module_version": "1.5.0",
          "state": {
            "_view_name": "ProgressView",
            "style": "IPY_MODEL_40a040cf17614eaeb6c9cf7639c56a25",
            "_dom_classes": [],
            "description": "",
            "_model_name": "FloatProgressModel",
            "bar_style": "success",
            "max": 100000,
            "_view_module": "@jupyter-widgets/controls",
            "_model_module_version": "1.5.0",
            "value": 100000,
            "_view_count": null,
            "_view_module_version": "1.5.0",
            "orientation": "horizontal",
            "min": 0,
            "description_tooltip": null,
            "_model_module": "@jupyter-widgets/controls",
            "layout": "IPY_MODEL_a869ce4fb56d44edad207eff8ea10597"
          }
        },
        "75623c70af03462d9388d33d956035e7": {
          "model_module": "@jupyter-widgets/controls",
          "model_name": "HTMLModel",
          "model_module_version": "1.5.0",
          "state": {
            "_view_name": "HTMLView",
            "style": "IPY_MODEL_ff4d9e0fe99d48f595d119c0dad87dd9",
            "_dom_classes": [],
            "description": "",
            "_model_name": "HTMLModel",
            "placeholder": "​",
            "_view_module": "@jupyter-widgets/controls",
            "_model_module_version": "1.5.0",
            "value": " 100000/100000 [02:22&lt;00:00, 898.44it/s]",
            "_view_count": null,
            "_view_module_version": "1.5.0",
            "description_tooltip": null,
            "_model_module": "@jupyter-widgets/controls",
            "layout": "IPY_MODEL_06150ead0df645a89068ff511c551901"
          }
        },
        "4d1f2f2a5f9c4f26b1812e1e4af5af56": {
          "model_module": "@jupyter-widgets/controls",
          "model_name": "DescriptionStyleModel",
          "model_module_version": "1.5.0",
          "state": {
            "_view_name": "StyleView",
            "_model_name": "DescriptionStyleModel",
            "description_width": "",
            "_view_module": "@jupyter-widgets/base",
            "_model_module_version": "1.5.0",
            "_view_count": null,
            "_view_module_version": "1.2.0",
            "_model_module": "@jupyter-widgets/controls"
          }
        },
        "864d570c68294ed5839406b826131253": {
          "model_module": "@jupyter-widgets/base",
          "model_name": "LayoutModel",
          "model_module_version": "1.2.0",
          "state": {
            "_view_name": "LayoutView",
            "grid_template_rows": null,
            "right": null,
            "justify_content": null,
            "_view_module": "@jupyter-widgets/base",
            "overflow": null,
            "_model_module_version": "1.2.0",
            "_view_count": null,
            "flex_flow": null,
            "width": null,
            "min_width": null,
            "border": null,
            "align_items": null,
            "bottom": null,
            "_model_module": "@jupyter-widgets/base",
            "top": null,
            "grid_column": null,
            "overflow_y": null,
            "overflow_x": null,
            "grid_auto_flow": null,
            "grid_area": null,
            "grid_template_columns": null,
            "flex": null,
            "_model_name": "LayoutModel",
            "justify_items": null,
            "grid_row": null,
            "max_height": null,
            "align_content": null,
            "visibility": null,
            "align_self": null,
            "height": null,
            "min_height": null,
            "padding": null,
            "grid_auto_rows": null,
            "grid_gap": null,
            "max_width": null,
            "order": null,
            "_view_module_version": "1.2.0",
            "grid_template_areas": null,
            "object_position": null,
            "object_fit": null,
            "grid_auto_columns": null,
            "margin": null,
            "display": null,
            "left": null
          }
        },
        "40a040cf17614eaeb6c9cf7639c56a25": {
          "model_module": "@jupyter-widgets/controls",
          "model_name": "ProgressStyleModel",
          "model_module_version": "1.5.0",
          "state": {
            "_view_name": "StyleView",
            "_model_name": "ProgressStyleModel",
            "description_width": "",
            "_view_module": "@jupyter-widgets/base",
            "_model_module_version": "1.5.0",
            "_view_count": null,
            "_view_module_version": "1.2.0",
            "bar_color": null,
            "_model_module": "@jupyter-widgets/controls"
          }
        },
        "a869ce4fb56d44edad207eff8ea10597": {
          "model_module": "@jupyter-widgets/base",
          "model_name": "LayoutModel",
          "model_module_version": "1.2.0",
          "state": {
            "_view_name": "LayoutView",
            "grid_template_rows": null,
            "right": null,
            "justify_content": null,
            "_view_module": "@jupyter-widgets/base",
            "overflow": null,
            "_model_module_version": "1.2.0",
            "_view_count": null,
            "flex_flow": null,
            "width": null,
            "min_width": null,
            "border": null,
            "align_items": null,
            "bottom": null,
            "_model_module": "@jupyter-widgets/base",
            "top": null,
            "grid_column": null,
            "overflow_y": null,
            "overflow_x": null,
            "grid_auto_flow": null,
            "grid_area": null,
            "grid_template_columns": null,
            "flex": null,
            "_model_name": "LayoutModel",
            "justify_items": null,
            "grid_row": null,
            "max_height": null,
            "align_content": null,
            "visibility": null,
            "align_self": null,
            "height": null,
            "min_height": null,
            "padding": null,
            "grid_auto_rows": null,
            "grid_gap": null,
            "max_width": null,
            "order": null,
            "_view_module_version": "1.2.0",
            "grid_template_areas": null,
            "object_position": null,
            "object_fit": null,
            "grid_auto_columns": null,
            "margin": null,
            "display": null,
            "left": null
          }
        },
        "ff4d9e0fe99d48f595d119c0dad87dd9": {
          "model_module": "@jupyter-widgets/controls",
          "model_name": "DescriptionStyleModel",
          "model_module_version": "1.5.0",
          "state": {
            "_view_name": "StyleView",
            "_model_name": "DescriptionStyleModel",
            "description_width": "",
            "_view_module": "@jupyter-widgets/base",
            "_model_module_version": "1.5.0",
            "_view_count": null,
            "_view_module_version": "1.2.0",
            "_model_module": "@jupyter-widgets/controls"
          }
        },
        "06150ead0df645a89068ff511c551901": {
          "model_module": "@jupyter-widgets/base",
          "model_name": "LayoutModel",
          "model_module_version": "1.2.0",
          "state": {
            "_view_name": "LayoutView",
            "grid_template_rows": null,
            "right": null,
            "justify_content": null,
            "_view_module": "@jupyter-widgets/base",
            "overflow": null,
            "_model_module_version": "1.2.0",
            "_view_count": null,
            "flex_flow": null,
            "width": null,
            "min_width": null,
            "border": null,
            "align_items": null,
            "bottom": null,
            "_model_module": "@jupyter-widgets/base",
            "top": null,
            "grid_column": null,
            "overflow_y": null,
            "overflow_x": null,
            "grid_auto_flow": null,
            "grid_area": null,
            "grid_template_columns": null,
            "flex": null,
            "_model_name": "LayoutModel",
            "justify_items": null,
            "grid_row": null,
            "max_height": null,
            "align_content": null,
            "visibility": null,
            "align_self": null,
            "height": null,
            "min_height": null,
            "padding": null,
            "grid_auto_rows": null,
            "grid_gap": null,
            "max_width": null,
            "order": null,
            "_view_module_version": "1.2.0",
            "grid_template_areas": null,
            "object_position": null,
            "object_fit": null,
            "grid_auto_columns": null,
            "margin": null,
            "display": null,
            "left": null
          }
        },
        "af92e58036eb4a7882ddad7e3365996c": {
          "model_module": "@jupyter-widgets/controls",
          "model_name": "HBoxModel",
          "model_module_version": "1.5.0",
          "state": {
            "_view_name": "HBoxView",
            "_dom_classes": [],
            "_model_name": "HBoxModel",
            "_view_module": "@jupyter-widgets/controls",
            "_model_module_version": "1.5.0",
            "_view_count": null,
            "_view_module_version": "1.5.0",
            "box_style": "",
            "layout": "IPY_MODEL_ce096f67d8b248019c70c480d310d6bd",
            "_model_module": "@jupyter-widgets/controls",
            "children": [
              "IPY_MODEL_e50007554f2a4685bc1b5c15a5c0dca6",
              "IPY_MODEL_e8b6169ab46c4e06a0c216eb1c5cd49f",
              "IPY_MODEL_12705b22735341fe8a3ae40f81838d2a"
            ]
          }
        },
        "ce096f67d8b248019c70c480d310d6bd": {
          "model_module": "@jupyter-widgets/base",
          "model_name": "LayoutModel",
          "model_module_version": "1.2.0",
          "state": {
            "_view_name": "LayoutView",
            "grid_template_rows": null,
            "right": null,
            "justify_content": null,
            "_view_module": "@jupyter-widgets/base",
            "overflow": null,
            "_model_module_version": "1.2.0",
            "_view_count": null,
            "flex_flow": null,
            "width": null,
            "min_width": null,
            "border": null,
            "align_items": null,
            "bottom": null,
            "_model_module": "@jupyter-widgets/base",
            "top": null,
            "grid_column": null,
            "overflow_y": null,
            "overflow_x": null,
            "grid_auto_flow": null,
            "grid_area": null,
            "grid_template_columns": null,
            "flex": null,
            "_model_name": "LayoutModel",
            "justify_items": null,
            "grid_row": null,
            "max_height": null,
            "align_content": null,
            "visibility": null,
            "align_self": null,
            "height": null,
            "min_height": null,
            "padding": null,
            "grid_auto_rows": null,
            "grid_gap": null,
            "max_width": null,
            "order": null,
            "_view_module_version": "1.2.0",
            "grid_template_areas": null,
            "object_position": null,
            "object_fit": null,
            "grid_auto_columns": null,
            "margin": null,
            "display": null,
            "left": null
          }
        },
        "e50007554f2a4685bc1b5c15a5c0dca6": {
          "model_module": "@jupyter-widgets/controls",
          "model_name": "HTMLModel",
          "model_module_version": "1.5.0",
          "state": {
            "_view_name": "HTMLView",
            "style": "IPY_MODEL_8dfe6db92ee1472dbe3caeb5286f6f14",
            "_dom_classes": [],
            "description": "",
            "_model_name": "HTMLModel",
            "placeholder": "​",
            "_view_module": "@jupyter-widgets/controls",
            "_model_module_version": "1.5.0",
            "value": "100%",
            "_view_count": null,
            "_view_module_version": "1.5.0",
            "description_tooltip": null,
            "_model_module": "@jupyter-widgets/controls",
            "layout": "IPY_MODEL_5ca716d1a198485dbfa528fc70e19523"
          }
        },
        "e8b6169ab46c4e06a0c216eb1c5cd49f": {
          "model_module": "@jupyter-widgets/controls",
          "model_name": "FloatProgressModel",
          "model_module_version": "1.5.0",
          "state": {
            "_view_name": "ProgressView",
            "style": "IPY_MODEL_3e90a8fcc0624f01ba9f6d678b74beef",
            "_dom_classes": [],
            "description": "",
            "_model_name": "FloatProgressModel",
            "bar_style": "success",
            "max": 1000000,
            "_view_module": "@jupyter-widgets/controls",
            "_model_module_version": "1.5.0",
            "value": 1000000,
            "_view_count": null,
            "_view_module_version": "1.5.0",
            "orientation": "horizontal",
            "min": 0,
            "description_tooltip": null,
            "_model_module": "@jupyter-widgets/controls",
            "layout": "IPY_MODEL_9a90372b9afc421f86aedd979de54d4a"
          }
        },
        "12705b22735341fe8a3ae40f81838d2a": {
          "model_module": "@jupyter-widgets/controls",
          "model_name": "HTMLModel",
          "model_module_version": "1.5.0",
          "state": {
            "_view_name": "HTMLView",
            "style": "IPY_MODEL_e9dc140f45aa4dbd9b3a5a5c17002ad1",
            "_dom_classes": [],
            "description": "",
            "_model_name": "HTMLModel",
            "placeholder": "​",
            "_view_module": "@jupyter-widgets/controls",
            "_model_module_version": "1.5.0",
            "value": " 1000000/1000000 [49:36&lt;00:00, 365.98it/s]",
            "_view_count": null,
            "_view_module_version": "1.5.0",
            "description_tooltip": null,
            "_model_module": "@jupyter-widgets/controls",
            "layout": "IPY_MODEL_46aee0e23459435090095f21fdb768c0"
          }
        },
        "8dfe6db92ee1472dbe3caeb5286f6f14": {
          "model_module": "@jupyter-widgets/controls",
          "model_name": "DescriptionStyleModel",
          "model_module_version": "1.5.0",
          "state": {
            "_view_name": "StyleView",
            "_model_name": "DescriptionStyleModel",
            "description_width": "",
            "_view_module": "@jupyter-widgets/base",
            "_model_module_version": "1.5.0",
            "_view_count": null,
            "_view_module_version": "1.2.0",
            "_model_module": "@jupyter-widgets/controls"
          }
        },
        "5ca716d1a198485dbfa528fc70e19523": {
          "model_module": "@jupyter-widgets/base",
          "model_name": "LayoutModel",
          "model_module_version": "1.2.0",
          "state": {
            "_view_name": "LayoutView",
            "grid_template_rows": null,
            "right": null,
            "justify_content": null,
            "_view_module": "@jupyter-widgets/base",
            "overflow": null,
            "_model_module_version": "1.2.0",
            "_view_count": null,
            "flex_flow": null,
            "width": null,
            "min_width": null,
            "border": null,
            "align_items": null,
            "bottom": null,
            "_model_module": "@jupyter-widgets/base",
            "top": null,
            "grid_column": null,
            "overflow_y": null,
            "overflow_x": null,
            "grid_auto_flow": null,
            "grid_area": null,
            "grid_template_columns": null,
            "flex": null,
            "_model_name": "LayoutModel",
            "justify_items": null,
            "grid_row": null,
            "max_height": null,
            "align_content": null,
            "visibility": null,
            "align_self": null,
            "height": null,
            "min_height": null,
            "padding": null,
            "grid_auto_rows": null,
            "grid_gap": null,
            "max_width": null,
            "order": null,
            "_view_module_version": "1.2.0",
            "grid_template_areas": null,
            "object_position": null,
            "object_fit": null,
            "grid_auto_columns": null,
            "margin": null,
            "display": null,
            "left": null
          }
        },
        "3e90a8fcc0624f01ba9f6d678b74beef": {
          "model_module": "@jupyter-widgets/controls",
          "model_name": "ProgressStyleModel",
          "model_module_version": "1.5.0",
          "state": {
            "_view_name": "StyleView",
            "_model_name": "ProgressStyleModel",
            "description_width": "",
            "_view_module": "@jupyter-widgets/base",
            "_model_module_version": "1.5.0",
            "_view_count": null,
            "_view_module_version": "1.2.0",
            "bar_color": null,
            "_model_module": "@jupyter-widgets/controls"
          }
        },
        "9a90372b9afc421f86aedd979de54d4a": {
          "model_module": "@jupyter-widgets/base",
          "model_name": "LayoutModel",
          "model_module_version": "1.2.0",
          "state": {
            "_view_name": "LayoutView",
            "grid_template_rows": null,
            "right": null,
            "justify_content": null,
            "_view_module": "@jupyter-widgets/base",
            "overflow": null,
            "_model_module_version": "1.2.0",
            "_view_count": null,
            "flex_flow": null,
            "width": null,
            "min_width": null,
            "border": null,
            "align_items": null,
            "bottom": null,
            "_model_module": "@jupyter-widgets/base",
            "top": null,
            "grid_column": null,
            "overflow_y": null,
            "overflow_x": null,
            "grid_auto_flow": null,
            "grid_area": null,
            "grid_template_columns": null,
            "flex": null,
            "_model_name": "LayoutModel",
            "justify_items": null,
            "grid_row": null,
            "max_height": null,
            "align_content": null,
            "visibility": null,
            "align_self": null,
            "height": null,
            "min_height": null,
            "padding": null,
            "grid_auto_rows": null,
            "grid_gap": null,
            "max_width": null,
            "order": null,
            "_view_module_version": "1.2.0",
            "grid_template_areas": null,
            "object_position": null,
            "object_fit": null,
            "grid_auto_columns": null,
            "margin": null,
            "display": null,
            "left": null
          }
        },
        "e9dc140f45aa4dbd9b3a5a5c17002ad1": {
          "model_module": "@jupyter-widgets/controls",
          "model_name": "DescriptionStyleModel",
          "model_module_version": "1.5.0",
          "state": {
            "_view_name": "StyleView",
            "_model_name": "DescriptionStyleModel",
            "description_width": "",
            "_view_module": "@jupyter-widgets/base",
            "_model_module_version": "1.5.0",
            "_view_count": null,
            "_view_module_version": "1.2.0",
            "_model_module": "@jupyter-widgets/controls"
          }
        },
        "46aee0e23459435090095f21fdb768c0": {
          "model_module": "@jupyter-widgets/base",
          "model_name": "LayoutModel",
          "model_module_version": "1.2.0",
          "state": {
            "_view_name": "LayoutView",
            "grid_template_rows": null,
            "right": null,
            "justify_content": null,
            "_view_module": "@jupyter-widgets/base",
            "overflow": null,
            "_model_module_version": "1.2.0",
            "_view_count": null,
            "flex_flow": null,
            "width": null,
            "min_width": null,
            "border": null,
            "align_items": null,
            "bottom": null,
            "_model_module": "@jupyter-widgets/base",
            "top": null,
            "grid_column": null,
            "overflow_y": null,
            "overflow_x": null,
            "grid_auto_flow": null,
            "grid_area": null,
            "grid_template_columns": null,
            "flex": null,
            "_model_name": "LayoutModel",
            "justify_items": null,
            "grid_row": null,
            "max_height": null,
            "align_content": null,
            "visibility": null,
            "align_self": null,
            "height": null,
            "min_height": null,
            "padding": null,
            "grid_auto_rows": null,
            "grid_gap": null,
            "max_width": null,
            "order": null,
            "_view_module_version": "1.2.0",
            "grid_template_areas": null,
            "object_position": null,
            "object_fit": null,
            "grid_auto_columns": null,
            "margin": null,
            "display": null,
            "left": null
          }
        },
        "9bfcf5dc6fb44261ba0e1b587a7dd65d": {
          "model_module": "@jupyter-widgets/controls",
          "model_name": "HBoxModel",
          "model_module_version": "1.5.0",
          "state": {
            "_view_name": "HBoxView",
            "_dom_classes": [],
            "_model_name": "HBoxModel",
            "_view_module": "@jupyter-widgets/controls",
            "_model_module_version": "1.5.0",
            "_view_count": null,
            "_view_module_version": "1.5.0",
            "box_style": "",
            "layout": "IPY_MODEL_4ff7bffd5ad348b7b0343b9a3ba410a3",
            "_model_module": "@jupyter-widgets/controls",
            "children": [
              "IPY_MODEL_4a02f9e356ad4c27a515694fd81975c9",
              "IPY_MODEL_a2f27190b06f4bf5b1594ba6aaeda0e0",
              "IPY_MODEL_5ccb0752c0fa478db86e418abea211c9"
            ]
          }
        },
        "4ff7bffd5ad348b7b0343b9a3ba410a3": {
          "model_module": "@jupyter-widgets/base",
          "model_name": "LayoutModel",
          "model_module_version": "1.2.0",
          "state": {
            "_view_name": "LayoutView",
            "grid_template_rows": null,
            "right": null,
            "justify_content": null,
            "_view_module": "@jupyter-widgets/base",
            "overflow": null,
            "_model_module_version": "1.2.0",
            "_view_count": null,
            "flex_flow": null,
            "width": null,
            "min_width": null,
            "border": null,
            "align_items": null,
            "bottom": null,
            "_model_module": "@jupyter-widgets/base",
            "top": null,
            "grid_column": null,
            "overflow_y": null,
            "overflow_x": null,
            "grid_auto_flow": null,
            "grid_area": null,
            "grid_template_columns": null,
            "flex": null,
            "_model_name": "LayoutModel",
            "justify_items": null,
            "grid_row": null,
            "max_height": null,
            "align_content": null,
            "visibility": null,
            "align_self": null,
            "height": null,
            "min_height": null,
            "padding": null,
            "grid_auto_rows": null,
            "grid_gap": null,
            "max_width": null,
            "order": null,
            "_view_module_version": "1.2.0",
            "grid_template_areas": null,
            "object_position": null,
            "object_fit": null,
            "grid_auto_columns": null,
            "margin": null,
            "display": null,
            "left": null
          }
        },
        "4a02f9e356ad4c27a515694fd81975c9": {
          "model_module": "@jupyter-widgets/controls",
          "model_name": "HTMLModel",
          "model_module_version": "1.5.0",
          "state": {
            "_view_name": "HTMLView",
            "style": "IPY_MODEL_8fafc1647cad4d81981dc2e43f3d5692",
            "_dom_classes": [],
            "description": "",
            "_model_name": "HTMLModel",
            "placeholder": "​",
            "_view_module": "@jupyter-widgets/controls",
            "_model_module_version": "1.5.0",
            "value": "100%",
            "_view_count": null,
            "_view_module_version": "1.5.0",
            "description_tooltip": null,
            "_model_module": "@jupyter-widgets/controls",
            "layout": "IPY_MODEL_bcc3362a64ab457096ef7f8e042c8708"
          }
        },
        "a2f27190b06f4bf5b1594ba6aaeda0e0": {
          "model_module": "@jupyter-widgets/controls",
          "model_name": "FloatProgressModel",
          "model_module_version": "1.5.0",
          "state": {
            "_view_name": "ProgressView",
            "style": "IPY_MODEL_cc6e8d22a9eb4d479bf6eab1df881500",
            "_dom_classes": [],
            "description": "",
            "_model_name": "FloatProgressModel",
            "bar_style": "success",
            "max": 15000,
            "_view_module": "@jupyter-widgets/controls",
            "_model_module_version": "1.5.0",
            "value": 15000,
            "_view_count": null,
            "_view_module_version": "1.5.0",
            "orientation": "horizontal",
            "min": 0,
            "description_tooltip": null,
            "_model_module": "@jupyter-widgets/controls",
            "layout": "IPY_MODEL_a89ed91573f84f89925f9a2cec1e4f0e"
          }
        },
        "5ccb0752c0fa478db86e418abea211c9": {
          "model_module": "@jupyter-widgets/controls",
          "model_name": "HTMLModel",
          "model_module_version": "1.5.0",
          "state": {
            "_view_name": "HTMLView",
            "style": "IPY_MODEL_810e6057bc674ef7a04e8e0846c365be",
            "_dom_classes": [],
            "description": "",
            "_model_name": "HTMLModel",
            "placeholder": "​",
            "_view_module": "@jupyter-widgets/controls",
            "_model_module_version": "1.5.0",
            "value": " 15000/15000 [05:02&lt;00:00, 77.83it/s]",
            "_view_count": null,
            "_view_module_version": "1.5.0",
            "description_tooltip": null,
            "_model_module": "@jupyter-widgets/controls",
            "layout": "IPY_MODEL_45521226cbc84fd2b63ed273df95dbbf"
          }
        },
        "8fafc1647cad4d81981dc2e43f3d5692": {
          "model_module": "@jupyter-widgets/controls",
          "model_name": "DescriptionStyleModel",
          "model_module_version": "1.5.0",
          "state": {
            "_view_name": "StyleView",
            "_model_name": "DescriptionStyleModel",
            "description_width": "",
            "_view_module": "@jupyter-widgets/base",
            "_model_module_version": "1.5.0",
            "_view_count": null,
            "_view_module_version": "1.2.0",
            "_model_module": "@jupyter-widgets/controls"
          }
        },
        "bcc3362a64ab457096ef7f8e042c8708": {
          "model_module": "@jupyter-widgets/base",
          "model_name": "LayoutModel",
          "model_module_version": "1.2.0",
          "state": {
            "_view_name": "LayoutView",
            "grid_template_rows": null,
            "right": null,
            "justify_content": null,
            "_view_module": "@jupyter-widgets/base",
            "overflow": null,
            "_model_module_version": "1.2.0",
            "_view_count": null,
            "flex_flow": null,
            "width": null,
            "min_width": null,
            "border": null,
            "align_items": null,
            "bottom": null,
            "_model_module": "@jupyter-widgets/base",
            "top": null,
            "grid_column": null,
            "overflow_y": null,
            "overflow_x": null,
            "grid_auto_flow": null,
            "grid_area": null,
            "grid_template_columns": null,
            "flex": null,
            "_model_name": "LayoutModel",
            "justify_items": null,
            "grid_row": null,
            "max_height": null,
            "align_content": null,
            "visibility": null,
            "align_self": null,
            "height": null,
            "min_height": null,
            "padding": null,
            "grid_auto_rows": null,
            "grid_gap": null,
            "max_width": null,
            "order": null,
            "_view_module_version": "1.2.0",
            "grid_template_areas": null,
            "object_position": null,
            "object_fit": null,
            "grid_auto_columns": null,
            "margin": null,
            "display": null,
            "left": null
          }
        },
        "cc6e8d22a9eb4d479bf6eab1df881500": {
          "model_module": "@jupyter-widgets/controls",
          "model_name": "ProgressStyleModel",
          "model_module_version": "1.5.0",
          "state": {
            "_view_name": "StyleView",
            "_model_name": "ProgressStyleModel",
            "description_width": "",
            "_view_module": "@jupyter-widgets/base",
            "_model_module_version": "1.5.0",
            "_view_count": null,
            "_view_module_version": "1.2.0",
            "bar_color": null,
            "_model_module": "@jupyter-widgets/controls"
          }
        },
        "a89ed91573f84f89925f9a2cec1e4f0e": {
          "model_module": "@jupyter-widgets/base",
          "model_name": "LayoutModel",
          "model_module_version": "1.2.0",
          "state": {
            "_view_name": "LayoutView",
            "grid_template_rows": null,
            "right": null,
            "justify_content": null,
            "_view_module": "@jupyter-widgets/base",
            "overflow": null,
            "_model_module_version": "1.2.0",
            "_view_count": null,
            "flex_flow": null,
            "width": null,
            "min_width": null,
            "border": null,
            "align_items": null,
            "bottom": null,
            "_model_module": "@jupyter-widgets/base",
            "top": null,
            "grid_column": null,
            "overflow_y": null,
            "overflow_x": null,
            "grid_auto_flow": null,
            "grid_area": null,
            "grid_template_columns": null,
            "flex": null,
            "_model_name": "LayoutModel",
            "justify_items": null,
            "grid_row": null,
            "max_height": null,
            "align_content": null,
            "visibility": null,
            "align_self": null,
            "height": null,
            "min_height": null,
            "padding": null,
            "grid_auto_rows": null,
            "grid_gap": null,
            "max_width": null,
            "order": null,
            "_view_module_version": "1.2.0",
            "grid_template_areas": null,
            "object_position": null,
            "object_fit": null,
            "grid_auto_columns": null,
            "margin": null,
            "display": null,
            "left": null
          }
        },
        "810e6057bc674ef7a04e8e0846c365be": {
          "model_module": "@jupyter-widgets/controls",
          "model_name": "DescriptionStyleModel",
          "model_module_version": "1.5.0",
          "state": {
            "_view_name": "StyleView",
            "_model_name": "DescriptionStyleModel",
            "description_width": "",
            "_view_module": "@jupyter-widgets/base",
            "_model_module_version": "1.5.0",
            "_view_count": null,
            "_view_module_version": "1.2.0",
            "_model_module": "@jupyter-widgets/controls"
          }
        },
        "45521226cbc84fd2b63ed273df95dbbf": {
          "model_module": "@jupyter-widgets/base",
          "model_name": "LayoutModel",
          "model_module_version": "1.2.0",
          "state": {
            "_view_name": "LayoutView",
            "grid_template_rows": null,
            "right": null,
            "justify_content": null,
            "_view_module": "@jupyter-widgets/base",
            "overflow": null,
            "_model_module_version": "1.2.0",
            "_view_count": null,
            "flex_flow": null,
            "width": null,
            "min_width": null,
            "border": null,
            "align_items": null,
            "bottom": null,
            "_model_module": "@jupyter-widgets/base",
            "top": null,
            "grid_column": null,
            "overflow_y": null,
            "overflow_x": null,
            "grid_auto_flow": null,
            "grid_area": null,
            "grid_template_columns": null,
            "flex": null,
            "_model_name": "LayoutModel",
            "justify_items": null,
            "grid_row": null,
            "max_height": null,
            "align_content": null,
            "visibility": null,
            "align_self": null,
            "height": null,
            "min_height": null,
            "padding": null,
            "grid_auto_rows": null,
            "grid_gap": null,
            "max_width": null,
            "order": null,
            "_view_module_version": "1.2.0",
            "grid_template_areas": null,
            "object_position": null,
            "object_fit": null,
            "grid_auto_columns": null,
            "margin": null,
            "display": null,
            "left": null
          }
        },
        "742c5943e5024e2eba5c3062a9a7c119": {
          "model_module": "@jupyter-widgets/controls",
          "model_name": "HBoxModel",
          "model_module_version": "1.5.0",
          "state": {
            "_view_name": "HBoxView",
            "_dom_classes": [],
            "_model_name": "HBoxModel",
            "_view_module": "@jupyter-widgets/controls",
            "_model_module_version": "1.5.0",
            "_view_count": null,
            "_view_module_version": "1.5.0",
            "box_style": "",
            "layout": "IPY_MODEL_fb77ad72b99c4a5c9d71f430753842d5",
            "_model_module": "@jupyter-widgets/controls",
            "children": [
              "IPY_MODEL_c189502df5a941958e16c0185db14437",
              "IPY_MODEL_056280e21543432f997bb6a76a303b25",
              "IPY_MODEL_1e29e02005ea4aeda6ff351b831ad81e"
            ]
          }
        },
        "fb77ad72b99c4a5c9d71f430753842d5": {
          "model_module": "@jupyter-widgets/base",
          "model_name": "LayoutModel",
          "model_module_version": "1.2.0",
          "state": {
            "_view_name": "LayoutView",
            "grid_template_rows": null,
            "right": null,
            "justify_content": null,
            "_view_module": "@jupyter-widgets/base",
            "overflow": null,
            "_model_module_version": "1.2.0",
            "_view_count": null,
            "flex_flow": null,
            "width": null,
            "min_width": null,
            "border": null,
            "align_items": null,
            "bottom": null,
            "_model_module": "@jupyter-widgets/base",
            "top": null,
            "grid_column": null,
            "overflow_y": null,
            "overflow_x": null,
            "grid_auto_flow": null,
            "grid_area": null,
            "grid_template_columns": null,
            "flex": null,
            "_model_name": "LayoutModel",
            "justify_items": null,
            "grid_row": null,
            "max_height": null,
            "align_content": null,
            "visibility": null,
            "align_self": null,
            "height": null,
            "min_height": null,
            "padding": null,
            "grid_auto_rows": null,
            "grid_gap": null,
            "max_width": null,
            "order": null,
            "_view_module_version": "1.2.0",
            "grid_template_areas": null,
            "object_position": null,
            "object_fit": null,
            "grid_auto_columns": null,
            "margin": null,
            "display": null,
            "left": null
          }
        },
        "c189502df5a941958e16c0185db14437": {
          "model_module": "@jupyter-widgets/controls",
          "model_name": "HTMLModel",
          "model_module_version": "1.5.0",
          "state": {
            "_view_name": "HTMLView",
            "style": "IPY_MODEL_04cd8697c4cf48b69efc4a09c68e1ebd",
            "_dom_classes": [],
            "description": "",
            "_model_name": "HTMLModel",
            "placeholder": "​",
            "_view_module": "@jupyter-widgets/controls",
            "_model_module_version": "1.5.0",
            "value": "100%",
            "_view_count": null,
            "_view_module_version": "1.5.0",
            "description_tooltip": null,
            "_model_module": "@jupyter-widgets/controls",
            "layout": "IPY_MODEL_ff44de762ab7474d854c36b1d441a843"
          }
        },
        "056280e21543432f997bb6a76a303b25": {
          "model_module": "@jupyter-widgets/controls",
          "model_name": "FloatProgressModel",
          "model_module_version": "1.5.0",
          "state": {
            "_view_name": "ProgressView",
            "style": "IPY_MODEL_2022beaee5ba4996a0026bb789091f46",
            "_dom_classes": [],
            "description": "",
            "_model_name": "FloatProgressModel",
            "bar_style": "success",
            "max": 30000,
            "_view_module": "@jupyter-widgets/controls",
            "_model_module_version": "1.5.0",
            "value": 30000,
            "_view_count": null,
            "_view_module_version": "1.5.0",
            "orientation": "horizontal",
            "min": 0,
            "description_tooltip": null,
            "_model_module": "@jupyter-widgets/controls",
            "layout": "IPY_MODEL_62474388b226461bad1eae48d677ee86"
          }
        },
        "1e29e02005ea4aeda6ff351b831ad81e": {
          "model_module": "@jupyter-widgets/controls",
          "model_name": "HTMLModel",
          "model_module_version": "1.5.0",
          "state": {
            "_view_name": "HTMLView",
            "style": "IPY_MODEL_e02e91a4c9f8401691e11d2cc91bf00f",
            "_dom_classes": [],
            "description": "",
            "_model_name": "HTMLModel",
            "placeholder": "​",
            "_view_module": "@jupyter-widgets/controls",
            "_model_module_version": "1.5.0",
            "value": " 30000/30000 [31:51&lt;00:00, 16.84it/s]",
            "_view_count": null,
            "_view_module_version": "1.5.0",
            "description_tooltip": null,
            "_model_module": "@jupyter-widgets/controls",
            "layout": "IPY_MODEL_359a0e67863941ba91bd71d1b187601a"
          }
        },
        "04cd8697c4cf48b69efc4a09c68e1ebd": {
          "model_module": "@jupyter-widgets/controls",
          "model_name": "DescriptionStyleModel",
          "model_module_version": "1.5.0",
          "state": {
            "_view_name": "StyleView",
            "_model_name": "DescriptionStyleModel",
            "description_width": "",
            "_view_module": "@jupyter-widgets/base",
            "_model_module_version": "1.5.0",
            "_view_count": null,
            "_view_module_version": "1.2.0",
            "_model_module": "@jupyter-widgets/controls"
          }
        },
        "ff44de762ab7474d854c36b1d441a843": {
          "model_module": "@jupyter-widgets/base",
          "model_name": "LayoutModel",
          "model_module_version": "1.2.0",
          "state": {
            "_view_name": "LayoutView",
            "grid_template_rows": null,
            "right": null,
            "justify_content": null,
            "_view_module": "@jupyter-widgets/base",
            "overflow": null,
            "_model_module_version": "1.2.0",
            "_view_count": null,
            "flex_flow": null,
            "width": null,
            "min_width": null,
            "border": null,
            "align_items": null,
            "bottom": null,
            "_model_module": "@jupyter-widgets/base",
            "top": null,
            "grid_column": null,
            "overflow_y": null,
            "overflow_x": null,
            "grid_auto_flow": null,
            "grid_area": null,
            "grid_template_columns": null,
            "flex": null,
            "_model_name": "LayoutModel",
            "justify_items": null,
            "grid_row": null,
            "max_height": null,
            "align_content": null,
            "visibility": null,
            "align_self": null,
            "height": null,
            "min_height": null,
            "padding": null,
            "grid_auto_rows": null,
            "grid_gap": null,
            "max_width": null,
            "order": null,
            "_view_module_version": "1.2.0",
            "grid_template_areas": null,
            "object_position": null,
            "object_fit": null,
            "grid_auto_columns": null,
            "margin": null,
            "display": null,
            "left": null
          }
        },
        "2022beaee5ba4996a0026bb789091f46": {
          "model_module": "@jupyter-widgets/controls",
          "model_name": "ProgressStyleModel",
          "model_module_version": "1.5.0",
          "state": {
            "_view_name": "StyleView",
            "_model_name": "ProgressStyleModel",
            "description_width": "",
            "_view_module": "@jupyter-widgets/base",
            "_model_module_version": "1.5.0",
            "_view_count": null,
            "_view_module_version": "1.2.0",
            "bar_color": null,
            "_model_module": "@jupyter-widgets/controls"
          }
        },
        "62474388b226461bad1eae48d677ee86": {
          "model_module": "@jupyter-widgets/base",
          "model_name": "LayoutModel",
          "model_module_version": "1.2.0",
          "state": {
            "_view_name": "LayoutView",
            "grid_template_rows": null,
            "right": null,
            "justify_content": null,
            "_view_module": "@jupyter-widgets/base",
            "overflow": null,
            "_model_module_version": "1.2.0",
            "_view_count": null,
            "flex_flow": null,
            "width": null,
            "min_width": null,
            "border": null,
            "align_items": null,
            "bottom": null,
            "_model_module": "@jupyter-widgets/base",
            "top": null,
            "grid_column": null,
            "overflow_y": null,
            "overflow_x": null,
            "grid_auto_flow": null,
            "grid_area": null,
            "grid_template_columns": null,
            "flex": null,
            "_model_name": "LayoutModel",
            "justify_items": null,
            "grid_row": null,
            "max_height": null,
            "align_content": null,
            "visibility": null,
            "align_self": null,
            "height": null,
            "min_height": null,
            "padding": null,
            "grid_auto_rows": null,
            "grid_gap": null,
            "max_width": null,
            "order": null,
            "_view_module_version": "1.2.0",
            "grid_template_areas": null,
            "object_position": null,
            "object_fit": null,
            "grid_auto_columns": null,
            "margin": null,
            "display": null,
            "left": null
          }
        },
        "e02e91a4c9f8401691e11d2cc91bf00f": {
          "model_module": "@jupyter-widgets/controls",
          "model_name": "DescriptionStyleModel",
          "model_module_version": "1.5.0",
          "state": {
            "_view_name": "StyleView",
            "_model_name": "DescriptionStyleModel",
            "description_width": "",
            "_view_module": "@jupyter-widgets/base",
            "_model_module_version": "1.5.0",
            "_view_count": null,
            "_view_module_version": "1.2.0",
            "_model_module": "@jupyter-widgets/controls"
          }
        },
        "359a0e67863941ba91bd71d1b187601a": {
          "model_module": "@jupyter-widgets/base",
          "model_name": "LayoutModel",
          "model_module_version": "1.2.0",
          "state": {
            "_view_name": "LayoutView",
            "grid_template_rows": null,
            "right": null,
            "justify_content": null,
            "_view_module": "@jupyter-widgets/base",
            "overflow": null,
            "_model_module_version": "1.2.0",
            "_view_count": null,
            "flex_flow": null,
            "width": null,
            "min_width": null,
            "border": null,
            "align_items": null,
            "bottom": null,
            "_model_module": "@jupyter-widgets/base",
            "top": null,
            "grid_column": null,
            "overflow_y": null,
            "overflow_x": null,
            "grid_auto_flow": null,
            "grid_area": null,
            "grid_template_columns": null,
            "flex": null,
            "_model_name": "LayoutModel",
            "justify_items": null,
            "grid_row": null,
            "max_height": null,
            "align_content": null,
            "visibility": null,
            "align_self": null,
            "height": null,
            "min_height": null,
            "padding": null,
            "grid_auto_rows": null,
            "grid_gap": null,
            "max_width": null,
            "order": null,
            "_view_module_version": "1.2.0",
            "grid_template_areas": null,
            "object_position": null,
            "object_fit": null,
            "grid_auto_columns": null,
            "margin": null,
            "display": null,
            "left": null
          }
        },
        "5bc35dc423cb48508aaa0396e63d95cb": {
          "model_module": "@jupyter-widgets/controls",
          "model_name": "HBoxModel",
          "model_module_version": "1.5.0",
          "state": {
            "_view_name": "HBoxView",
            "_dom_classes": [],
            "_model_name": "HBoxModel",
            "_view_module": "@jupyter-widgets/controls",
            "_model_module_version": "1.5.0",
            "_view_count": null,
            "_view_module_version": "1.5.0",
            "box_style": "",
            "layout": "IPY_MODEL_16d4107774f64f60910a5aa1fdc46bbe",
            "_model_module": "@jupyter-widgets/controls",
            "children": [
              "IPY_MODEL_4ee4e30c511b47b7b9da67631edda983",
              "IPY_MODEL_ae5e8b484ac247218952da3528b28ff3",
              "IPY_MODEL_b9e24f4812ad4c129350d5655525d054"
            ]
          }
        },
        "16d4107774f64f60910a5aa1fdc46bbe": {
          "model_module": "@jupyter-widgets/base",
          "model_name": "LayoutModel",
          "model_module_version": "1.2.0",
          "state": {
            "_view_name": "LayoutView",
            "grid_template_rows": null,
            "right": null,
            "justify_content": null,
            "_view_module": "@jupyter-widgets/base",
            "overflow": null,
            "_model_module_version": "1.2.0",
            "_view_count": null,
            "flex_flow": null,
            "width": null,
            "min_width": null,
            "border": null,
            "align_items": null,
            "bottom": null,
            "_model_module": "@jupyter-widgets/base",
            "top": null,
            "grid_column": null,
            "overflow_y": null,
            "overflow_x": null,
            "grid_auto_flow": null,
            "grid_area": null,
            "grid_template_columns": null,
            "flex": null,
            "_model_name": "LayoutModel",
            "justify_items": null,
            "grid_row": null,
            "max_height": null,
            "align_content": null,
            "visibility": null,
            "align_self": null,
            "height": null,
            "min_height": null,
            "padding": null,
            "grid_auto_rows": null,
            "grid_gap": null,
            "max_width": null,
            "order": null,
            "_view_module_version": "1.2.0",
            "grid_template_areas": null,
            "object_position": null,
            "object_fit": null,
            "grid_auto_columns": null,
            "margin": null,
            "display": null,
            "left": null
          }
        },
        "4ee4e30c511b47b7b9da67631edda983": {
          "model_module": "@jupyter-widgets/controls",
          "model_name": "HTMLModel",
          "model_module_version": "1.5.0",
          "state": {
            "_view_name": "HTMLView",
            "style": "IPY_MODEL_3d49f80795fa47efa9afc2c55a58d401",
            "_dom_classes": [],
            "description": "",
            "_model_name": "HTMLModel",
            "placeholder": "​",
            "_view_module": "@jupyter-widgets/controls",
            "_model_module_version": "1.5.0",
            "value": "100%",
            "_view_count": null,
            "_view_module_version": "1.5.0",
            "description_tooltip": null,
            "_model_module": "@jupyter-widgets/controls",
            "layout": "IPY_MODEL_3a7dc0cb20494b1cb6a705326598f9f0"
          }
        },
        "ae5e8b484ac247218952da3528b28ff3": {
          "model_module": "@jupyter-widgets/controls",
          "model_name": "FloatProgressModel",
          "model_module_version": "1.5.0",
          "state": {
            "_view_name": "ProgressView",
            "style": "IPY_MODEL_1ae308ace3e74d8380efed74209f068c",
            "_dom_classes": [],
            "description": "",
            "_model_name": "FloatProgressModel",
            "bar_style": "success",
            "max": 37113,
            "_view_module": "@jupyter-widgets/controls",
            "_model_module_version": "1.5.0",
            "value": 37113,
            "_view_count": null,
            "_view_module_version": "1.5.0",
            "orientation": "horizontal",
            "min": 0,
            "description_tooltip": null,
            "_model_module": "@jupyter-widgets/controls",
            "layout": "IPY_MODEL_0ed4094998a34effbaca6c37c3dfb43a"
          }
        },
        "b9e24f4812ad4c129350d5655525d054": {
          "model_module": "@jupyter-widgets/controls",
          "model_name": "HTMLModel",
          "model_module_version": "1.5.0",
          "state": {
            "_view_name": "HTMLView",
            "style": "IPY_MODEL_f935599d4e154aa182aebaff53e213a4",
            "_dom_classes": [],
            "description": "",
            "_model_name": "HTMLModel",
            "placeholder": "​",
            "_view_module": "@jupyter-widgets/controls",
            "_model_module_version": "1.5.0",
            "value": " 37113/37113 [44:14&lt;00:00, 15.16it/s]",
            "_view_count": null,
            "_view_module_version": "1.5.0",
            "description_tooltip": null,
            "_model_module": "@jupyter-widgets/controls",
            "layout": "IPY_MODEL_db16bca43a2b47679809cfdc099d35d1"
          }
        },
        "3d49f80795fa47efa9afc2c55a58d401": {
          "model_module": "@jupyter-widgets/controls",
          "model_name": "DescriptionStyleModel",
          "model_module_version": "1.5.0",
          "state": {
            "_view_name": "StyleView",
            "_model_name": "DescriptionStyleModel",
            "description_width": "",
            "_view_module": "@jupyter-widgets/base",
            "_model_module_version": "1.5.0",
            "_view_count": null,
            "_view_module_version": "1.2.0",
            "_model_module": "@jupyter-widgets/controls"
          }
        },
        "3a7dc0cb20494b1cb6a705326598f9f0": {
          "model_module": "@jupyter-widgets/base",
          "model_name": "LayoutModel",
          "model_module_version": "1.2.0",
          "state": {
            "_view_name": "LayoutView",
            "grid_template_rows": null,
            "right": null,
            "justify_content": null,
            "_view_module": "@jupyter-widgets/base",
            "overflow": null,
            "_model_module_version": "1.2.0",
            "_view_count": null,
            "flex_flow": null,
            "width": null,
            "min_width": null,
            "border": null,
            "align_items": null,
            "bottom": null,
            "_model_module": "@jupyter-widgets/base",
            "top": null,
            "grid_column": null,
            "overflow_y": null,
            "overflow_x": null,
            "grid_auto_flow": null,
            "grid_area": null,
            "grid_template_columns": null,
            "flex": null,
            "_model_name": "LayoutModel",
            "justify_items": null,
            "grid_row": null,
            "max_height": null,
            "align_content": null,
            "visibility": null,
            "align_self": null,
            "height": null,
            "min_height": null,
            "padding": null,
            "grid_auto_rows": null,
            "grid_gap": null,
            "max_width": null,
            "order": null,
            "_view_module_version": "1.2.0",
            "grid_template_areas": null,
            "object_position": null,
            "object_fit": null,
            "grid_auto_columns": null,
            "margin": null,
            "display": null,
            "left": null
          }
        },
        "1ae308ace3e74d8380efed74209f068c": {
          "model_module": "@jupyter-widgets/controls",
          "model_name": "ProgressStyleModel",
          "model_module_version": "1.5.0",
          "state": {
            "_view_name": "StyleView",
            "_model_name": "ProgressStyleModel",
            "description_width": "",
            "_view_module": "@jupyter-widgets/base",
            "_model_module_version": "1.5.0",
            "_view_count": null,
            "_view_module_version": "1.2.0",
            "bar_color": null,
            "_model_module": "@jupyter-widgets/controls"
          }
        },
        "0ed4094998a34effbaca6c37c3dfb43a": {
          "model_module": "@jupyter-widgets/base",
          "model_name": "LayoutModel",
          "model_module_version": "1.2.0",
          "state": {
            "_view_name": "LayoutView",
            "grid_template_rows": null,
            "right": null,
            "justify_content": null,
            "_view_module": "@jupyter-widgets/base",
            "overflow": null,
            "_model_module_version": "1.2.0",
            "_view_count": null,
            "flex_flow": null,
            "width": null,
            "min_width": null,
            "border": null,
            "align_items": null,
            "bottom": null,
            "_model_module": "@jupyter-widgets/base",
            "top": null,
            "grid_column": null,
            "overflow_y": null,
            "overflow_x": null,
            "grid_auto_flow": null,
            "grid_area": null,
            "grid_template_columns": null,
            "flex": null,
            "_model_name": "LayoutModel",
            "justify_items": null,
            "grid_row": null,
            "max_height": null,
            "align_content": null,
            "visibility": null,
            "align_self": null,
            "height": null,
            "min_height": null,
            "padding": null,
            "grid_auto_rows": null,
            "grid_gap": null,
            "max_width": null,
            "order": null,
            "_view_module_version": "1.2.0",
            "grid_template_areas": null,
            "object_position": null,
            "object_fit": null,
            "grid_auto_columns": null,
            "margin": null,
            "display": null,
            "left": null
          }
        },
        "f935599d4e154aa182aebaff53e213a4": {
          "model_module": "@jupyter-widgets/controls",
          "model_name": "DescriptionStyleModel",
          "model_module_version": "1.5.0",
          "state": {
            "_view_name": "StyleView",
            "_model_name": "DescriptionStyleModel",
            "description_width": "",
            "_view_module": "@jupyter-widgets/base",
            "_model_module_version": "1.5.0",
            "_view_count": null,
            "_view_module_version": "1.2.0",
            "_model_module": "@jupyter-widgets/controls"
          }
        },
        "db16bca43a2b47679809cfdc099d35d1": {
          "model_module": "@jupyter-widgets/base",
          "model_name": "LayoutModel",
          "model_module_version": "1.2.0",
          "state": {
            "_view_name": "LayoutView",
            "grid_template_rows": null,
            "right": null,
            "justify_content": null,
            "_view_module": "@jupyter-widgets/base",
            "overflow": null,
            "_model_module_version": "1.2.0",
            "_view_count": null,
            "flex_flow": null,
            "width": null,
            "min_width": null,
            "border": null,
            "align_items": null,
            "bottom": null,
            "_model_module": "@jupyter-widgets/base",
            "top": null,
            "grid_column": null,
            "overflow_y": null,
            "overflow_x": null,
            "grid_auto_flow": null,
            "grid_area": null,
            "grid_template_columns": null,
            "flex": null,
            "_model_name": "LayoutModel",
            "justify_items": null,
            "grid_row": null,
            "max_height": null,
            "align_content": null,
            "visibility": null,
            "align_self": null,
            "height": null,
            "min_height": null,
            "padding": null,
            "grid_auto_rows": null,
            "grid_gap": null,
            "max_width": null,
            "order": null,
            "_view_module_version": "1.2.0",
            "grid_template_areas": null,
            "object_position": null,
            "object_fit": null,
            "grid_auto_columns": null,
            "margin": null,
            "display": null,
            "left": null
          }
        }
      }
    }
  },
  "cells": [
    {
      "cell_type": "code",
      "metadata": {
        "colab": {
          "base_uri": "https://localhost:8080/"
        },
        "id": "7ebc3d19-cf27-4a52-bf23-3a6baa872b85",
        "outputId": "9165173e-2058-4312-a184-6848e26c5fb3"
      },
      "source": [
        "import gym\n",
        "\n",
        "import matplotlib as mpl\n",
        "import matplotlib.pyplot as plt\n",
        "import seaborn as sns\n",
        "import json\n",
        "import math\n",
        "import random\n",
        "import numpy as np\n",
        "import scipy as sp\n",
        "import scipy.stats as st\n",
        "import scipy.integrate as integrate\n",
        "from scipy.stats import multivariate_normal\n",
        "from sklearn import linear_model\n",
        "from sklearn.utils._testing import ignore_warnings\n",
        "from sklearn.exceptions import ConvergenceWarning\n",
        "import statsmodels.api as sm\n",
        "from matplotlib.colors import LogNorm\n",
        "import pickle\n",
        "\n",
        "from joblib import Parallel, delayed\n",
        "import multiprocessing\n",
        "from collections import namedtuple\n",
        "from itertools import count\n",
        "\n",
        "import cProfile\n",
        "from datetime import datetime\n",
        "\n",
        "import torch\n",
        "import torch.nn as nn\n",
        "import torch.optim as optim\n",
        "import torch.nn.functional as F\n",
        "import torchvision.transforms as T\n",
        "from torch.autograd import Variable\n",
        "\n",
        "from tqdm.notebook import tqdm\n",
        "\n",
        "sns.set_style(\"whitegrid\")\n",
        "sns.set_palette(\"colorblind\")\n",
        "palette = sns.color_palette()\n",
        "figsize = (15,8)\n",
        "legend_fontsize = 16\n",
        "\n",
        "from matplotlib import rc\n",
        "rc('font',**{'family':'sans-serif'})\n",
        "# rc('text', usetex=True)\n",
        "# rc('text.latex',preamble=r'\\usepackage[utf8]{inputenc}')\n",
        "# rc('text.latex',preamble=r'\\usepackage[russian]{babel}')\n",
        "rc('figure', **{'dpi': 300})"
      ],
      "id": "7ebc3d19-cf27-4a52-bf23-3a6baa872b85",
      "execution_count": 1,
      "outputs": [
        {
          "output_type": "stream",
          "name": "stderr",
          "text": [
            "/usr/local/lib/python3.7/dist-packages/statsmodels/tools/_testing.py:19: FutureWarning: pandas.util.testing is deprecated. Use the functions in the public API at pandas.testing instead.\n",
            "  import pandas.util.testing as tm\n"
          ]
        }
      ]
    },
    {
      "cell_type": "markdown",
      "metadata": {
        "tags": [],
        "id": "598e1b35-b8fc-4d12-9a93-a86d56f3af3c"
      },
      "source": [
        "### Tic Tac Toe class"
      ],
      "id": "598e1b35-b8fc-4d12-9a93-a86d56f3af3c"
    },
    {
      "cell_type": "code",
      "metadata": {
        "id": "b26d5270-3b8f-403a-b9b4-8934ffe5a3e2"
      },
      "source": [
        "N_ROWS = 3\n",
        "N_COLS = 3\n",
        "N_WIN = 3"
      ],
      "id": "b26d5270-3b8f-403a-b9b4-8934ffe5a3e2",
      "execution_count": 2,
      "outputs": []
    },
    {
      "cell_type": "code",
      "metadata": {
        "id": "1497011b-275c-40d7-a6b2-5fb6e3a2ab72"
      },
      "source": [
        "class TicTacToe(gym.Env):\n",
        "    def __init__(self, n_rows=N_ROWS, n_cols=N_COLS, n_win=N_WIN, clone=None):\n",
        "        if clone is not None:\n",
        "            self.n_rows, self.n_cols, self.n_win = clone.n_rows, clone.n_cols, clone.n_win\n",
        "            self.board = copy.deepcopy(clone.board)\n",
        "            self.curTurn = clone.curTurn\n",
        "            self.emptySpaces = None\n",
        "            self.boardHash = None\n",
        "        else:\n",
        "            self.n_rows = n_rows\n",
        "            self.n_cols = n_cols\n",
        "            self.n_win = n_win\n",
        "\n",
        "            self.reset()\n",
        "\n",
        "    def getEmptySpaces(self):\n",
        "        if self.emptySpaces is None:\n",
        "            res = np.where(self.board == 0)\n",
        "            self.emptySpaces = np.array([ (i, j) for i,j in zip(res[0], res[1]) ])\n",
        "        return self.emptySpaces\n",
        "\n",
        "    def makeMove(self, player, i, j):\n",
        "        self.board[i, j] = player\n",
        "        self.emptySpaces = None\n",
        "        self.boardHash = None\n",
        "\n",
        "    def getHash(self):\n",
        "        if self.boardHash is None:\n",
        "            self.boardHash = ''.join(['%s' % (x+1) for x in self.board.reshape(self.n_rows * self.n_cols)])\n",
        "        return self.boardHash\n",
        "\n",
        "    def isTerminal(self):\n",
        "        # проверим, не закончилась ли игра\n",
        "        cur_marks, cur_p = np.where(self.board == self.curTurn), self.curTurn\n",
        "        for i,j in zip(cur_marks[0], cur_marks[1]):\n",
        "            win = False\n",
        "            if i <= self.n_rows - self.n_win:\n",
        "                if np.all(self.board[i:i+self.n_win, j] == cur_p):\n",
        "                    win = True\n",
        "            if not win:\n",
        "                if j <= self.n_cols - self.n_win:\n",
        "                    if np.all(self.board[i,j:j+self.n_win] == cur_p):\n",
        "                        win = True\n",
        "            if not win:\n",
        "                if i <= self.n_rows - self.n_win and j <= self.n_cols - self.n_win:\n",
        "                    if np.all(np.array([ self.board[i+k,j+k] == cur_p for k in range(self.n_win) ])):\n",
        "                        win = True\n",
        "            if not win:\n",
        "                if i <= self.n_rows - self.n_win and j >= self.n_win-1:\n",
        "                    if np.all(np.array([ self.board[i+k,j-k] == cur_p for k in range(self.n_win) ])):\n",
        "                        win = True\n",
        "            if win:\n",
        "                self.gameOver = True\n",
        "                return self.curTurn\n",
        "\n",
        "        if len(self.getEmptySpaces()) == 0:\n",
        "            self.gameOver = True\n",
        "            return 0\n",
        "\n",
        "        self.gameOver = False\n",
        "        return None\n",
        "\n",
        "    def printBoard(self):\n",
        "        for i in range(0, self.n_rows):\n",
        "            print('----'*(self.n_cols)+'-')\n",
        "            out = '| '\n",
        "            for j in range(0, self.n_cols):\n",
        "                if self.board[i, j] == 1:\n",
        "                    token = 'x'\n",
        "                if self.board[i, j] == -1:\n",
        "                    token = 'o'\n",
        "                if self.board[i, j] == 0:\n",
        "                    token = ' '\n",
        "                out += token + ' | '\n",
        "            print(out)\n",
        "        print('----'*(self.n_cols)+'-')\n",
        "\n",
        "    def getState(self):\n",
        "        return (self.getHash(), self.getEmptySpaces(), self.curTurn)\n",
        "\n",
        "    def action_from_int(self, action_int):\n",
        "        return ( int(action_int / self.n_cols), int(action_int % self.n_cols))\n",
        "\n",
        "    def int_from_action(self, action):\n",
        "        return action[0] * self.n_cols + action[1]\n",
        "    \n",
        "    def step(self, action):\n",
        "        if self.board[action[0], action[1]] != 0:\n",
        "#             print('Wrong choice')\n",
        "            return self.getState(), -10, True, {}\n",
        "        self.makeMove(self.curTurn, action[0], action[1])\n",
        "        reward = self.isTerminal()\n",
        "        self.curTurn = -self.curTurn\n",
        "        return self.getState(), 0 if reward is None else reward, reward is not None, {}\n",
        "\n",
        "    def reset(self):\n",
        "        self.board = np.zeros((self.n_rows, self.n_cols), dtype=int)\n",
        "        self.boardHash = None\n",
        "        self.gameOver = False\n",
        "        self.emptySpaces = None\n",
        "        self.curTurn = 1"
      ],
      "id": "1497011b-275c-40d7-a6b2-5fb6e3a2ab72",
      "execution_count": 3,
      "outputs": []
    },
    {
      "cell_type": "code",
      "metadata": {
        "id": "262f1fe2-7b49-4594-8278-54aa13d21155"
      },
      "source": [
        "def plot_board(env, pi, showtext=True, verbose=True, fontq=20, fontx=60):\n",
        "    '''Рисуем доску с оценками из стратегии pi'''\n",
        "    fig, ax = plt.subplots(1, 1, figsize=(10, 10))\n",
        "    X, Y = np.meshgrid(np.arange(0, env.n_rows), np.arange(0, env.n_rows))\n",
        "    Z = np.zeros((env.n_rows, env.n_cols)) + .01\n",
        "    s, actions = env.getHash(), env.getEmptySpaces()\n",
        "    if pi is not None and s in pi.Q:\n",
        "        for i, a in enumerate(actions):\n",
        "            Z[a[0], a[1]] = pi.Q[s][i]\n",
        "    ax.set_xticks([])\n",
        "    ax.set_yticks([])\n",
        "    surf = ax.imshow(Z, cmap=plt.get_cmap('Accent', 10), vmin=-1, vmax=1)\n",
        "    if showtext:\n",
        "        for i,a in enumerate(actions):\n",
        "            if pi is not None and s in pi.Q:\n",
        "                ax.text( a[1] , a[0] , \"%.3f\" % pi.Q[s][i], fontsize=fontq, horizontalalignment='center', verticalalignment='center', color=\"w\" )\n",
        "    for i in range(env.n_rows):\n",
        "        for j in range(env.n_cols):\n",
        "            if env.board[i, j] == -1:\n",
        "                ax.text(j, i, \"O\", fontsize=fontx, horizontalalignment='center', verticalalignment='center', color=\"w\" )\n",
        "            if env.board[i, j] == 1:\n",
        "                ax.text(j, i, \"X\", fontsize=fontx, horizontalalignment='center', verticalalignment='center', color=\"w\" )\n",
        "#     cbar = plt.colorbar(surf, ticks=[0, 1])\n",
        "    ax.grid(False)\n",
        "    plt.show()\n",
        "\n",
        "def get_and_print_move(env, pi, s, actions, random=False, verbose=True, fontq=20, fontx=60):\n",
        "    '''Делаем ход, рисуем доску'''\n",
        "    plot_board(env, pi, fontq=fontq, fontx=fontx)\n",
        "    if verbose and (pi is not None):\n",
        "        if s in pi.Q:\n",
        "            for i,a in enumerate(actions):\n",
        "                print(i, a, pi.Q[s][i])\n",
        "        else:\n",
        "            print(\"Стратегия не знает, что делать...\")\n",
        "    if random:\n",
        "        return np.random.randint(len(actions))\n",
        "    else:\n",
        "        return pi.getActionGreedy(s, len(actions))"
      ],
      "id": "262f1fe2-7b49-4594-8278-54aa13d21155",
      "execution_count": 4,
      "outputs": []
    },
    {
      "cell_type": "code",
      "metadata": {
        "id": "3f18a3ea-0761-479e-86f7-6e47654a4245"
      },
      "source": [
        "def plot_test_game(env, pi1, pi2, random_crosses=False, random_naughts=True, verbose=True, fontq=20, fontx=60):\n",
        "    '''Играем тестовую партию между стратегиями или со случайными ходами, рисуем ход игры'''\n",
        "    done = False\n",
        "    env.reset()\n",
        "    while not done:\n",
        "        s, actions = env.getHash(), env.getEmptySpaces()\n",
        "        if env.curTurn == 1:\n",
        "            a = get_and_print_move(env, pi1, s, actions, random=random_crosses, verbose=verbose, fontq=fontq, fontx=fontx)\n",
        "        else:\n",
        "            a = get_and_print_move(env, pi2, s, actions, random=random_naughts, verbose=verbose, fontq=fontq, fontx=fontx)\n",
        "        observation, reward, done, info = env.step(actions[a])\n",
        "        if reward == 1:\n",
        "            print(\"Крестики выиграли!\")\n",
        "            plot_board(env, None, showtext=False, fontq=fontq, fontx=fontx)\n",
        "        if reward == -1:\n",
        "            print(\"Нолики выиграли!\")\n",
        "            plot_board(env, None, showtext=False, fontq=fontq, fontx=fontx)"
      ],
      "id": "3f18a3ea-0761-479e-86f7-6e47654a4245",
      "execution_count": 5,
      "outputs": []
    },
    {
      "cell_type": "markdown",
      "metadata": {
        "id": "0c9680e3-0eec-49f9-a8d7-66a4b34c121e"
      },
      "source": [
        "### 1. Реализуйте обычное (табличное) Q-обучение. Обучите стратегии крестиков и ноликов для доски 3х3."
      ],
      "id": "0c9680e3-0eec-49f9-a8d7-66a4b34c121e"
    },
    {
      "cell_type": "code",
      "metadata": {
        "id": "f24f5b0f-947f-47c1-9d9b-fd107d10252f"
      },
      "source": [
        "from collections import defaultdict"
      ],
      "id": "f24f5b0f-947f-47c1-9d9b-fd107d10252f",
      "execution_count": 6,
      "outputs": []
    },
    {
      "cell_type": "code",
      "metadata": {
        "id": "6e48f94b-6bb7-4be6-a4a6-7b09098e1b83"
      },
      "source": [
        "def play(env: TicTacToe, agent_1, agent_2, p1_mode='random', p2_mode='random', verbose=False):\n",
        "    env.reset()\n",
        "    game_hash, empty_cells, player_turn = env.getState()\n",
        "    is_finished = False\n",
        "    \n",
        "    while not is_finished:\n",
        "        actions = get_available_actions_from_hash(game_hash)\n",
        "#         print(actions, game_hash)\n",
        "        if player_turn == 1:\n",
        "            if p1_mode == 'random':\n",
        "                action_idx = random.choice(actions)\n",
        "    #             print(f'Choice: {action_idx}')\n",
        "            elif p1_mode == 'agent':\n",
        "                action_idx = np.argmax(agent_1.Q[game_hash])\n",
        "        if player_turn == -1:\n",
        "            if p2_mode == 'random' and player_turn == -1:\n",
        "                action_idx = random.choice(actions)\n",
        "    #             print(f'Choice: {action_idx}')\n",
        "            elif p2_mode == 'agent':\n",
        "                action_idx = np.argmax(agent_2.Q[game_hash])\n",
        "#         print('Action id:', action_idx)\n",
        "        action = env.action_from_int(action_idx)\n",
        "        \n",
        "        if verbose:\n",
        "            env.printBoard()\n",
        "        \n",
        "        (game_hash, empty_cells, player_turn), reward, is_finished, _ = env.step(action)\n",
        "        \n",
        "    if verbose:\n",
        "            env.printBoard()\n",
        "        \n",
        "    if reward == 1:\n",
        "        return (1, 0)\n",
        "    elif reward == -1:\n",
        "        return (0, 1)\n",
        "    else:\n",
        "        return (0, 0)\n",
        "    \n",
        "def evaluate(env, agent_1, agent_2, n=1000, p1_mode='agent', p2_mode='agent'):\n",
        "    player1_wins = []\n",
        "    player2_wins = []\n",
        "    for _ in range(n):\n",
        "        r1, r2 = play(\n",
        "            env, \n",
        "            agent_1, agent_2,\n",
        "            p1_mode=p1_mode, \n",
        "            p2_mode=p2_mode\n",
        "        )\n",
        "        player1_wins.append(r1)\n",
        "        player2_wins.append(r2)\n",
        "    w1_p = np.mean(player1_wins)\n",
        "    w2_p = np.mean(player2_wins)\n",
        "    draw = 1 - w1_p - w2_p\n",
        "    return w1_p, w2_p, draw\n",
        "\n",
        "def get_available_actions_from_hash(game_hash):\n",
        "    return np.where(np.array(list(game_hash)) == '1')[0]\n",
        "\n",
        "def get_blocked_actions_from_hash(game_hash):\n",
        "    return np.where(np.array(list(game_hash)) != '1')[0]\n",
        "\n",
        "class Agent:\n",
        "    def __init__(self, alpha, gamma, N=9):\n",
        "        self.prev_state = None\n",
        "        self.prev_action = None\n",
        "        self.Q = defaultdict(lambda: np.zeros(N))\n",
        "        self.alpha = alpha\n",
        "        self.gamma = gamma\n",
        "        \n",
        "    def update_Q(self, state, reward):\n",
        "        if self.prev_state is not None:\n",
        "            self.Q[self.prev_state][self.prev_action] = self.Q[self.prev_state][self.prev_action] + \\\n",
        "                self.alpha * (reward + self.gamma * np.max(self.Q[state]) - self.Q[self.prev_state][self.prev_action])\n",
        "        \n",
        "    def save_state(self, state, action):\n",
        "        self.prev_state = state\n",
        "        self.prev_action = action\n",
        "\n",
        "def Q_learn_step(env, agent_1: Agent, agent_2: Agent, epsilon=0.3):\n",
        "    agents = {\n",
        "        1: agent_1,\n",
        "        -1: agent_2\n",
        "    }\n",
        "    prev = {\n",
        "        -1: None,\n",
        "        1: None\n",
        "    }\n",
        "    env.reset()\n",
        "    agent_idx = 1\n",
        "    game_hash, empty_cells, turn = env.getState()\n",
        "    reward = 0\n",
        "    is_finished = False\n",
        "    \n",
        "    while not is_finished:\n",
        "        agent = agents[agent_idx]\n",
        "        block_actions_idx = get_blocked_actions_from_hash(game_hash)\n",
        "        agent.Q[game_hash][block_actions_idx] = float('-inf')\n",
        "        actions = get_available_actions_from_hash(game_hash)\n",
        "        if random.random() < epsilon:\n",
        "            action_idx = random.choice(actions)\n",
        "        else:\n",
        "            action_idx = np.argmax(agent.Q[game_hash])\n",
        "        action = env.action_from_int(action_idx)\n",
        "        (game_hash, empty_cells, player_turn), reward, is_finished, _ = env.step(action)\n",
        "        if prev[agent_idx] is None:\n",
        "            agent.state = None\n",
        "            agent.save_state(game_hash, action_idx) # если первый раз то просто записывает состояние\n",
        "            prev[agent_idx] = True\n",
        "        else:\n",
        "            agents[-agent_idx].update_Q(game_hash, -reward)\n",
        "            agents[agent_idx].save_state(game_hash, action_idx)\n",
        "        agent_idx *= -1\n",
        "    \n",
        "    if reward == 1:\n",
        "#         print('Cross wins')\n",
        "        agents[1].update_Q(game_hash, 1)\n",
        "        agents[-1].update_Q(game_hash, -1)\n",
        "    \n",
        "    elif reward == -1:\n",
        "#         print('Zeros wins')\n",
        "        agents[1].update_Q(game_hash, -1)\n",
        "        agents[-1].update_Q(game_hash, 1)\n",
        "        \n",
        "        \n",
        "def Q_learn(env, episodes=1e5, alpha=0.03, evaluate_every=1000, epsilon=0.1, gamma=1, verbose=False):\n",
        "    p1_win = list()\n",
        "    p2_win = list()\n",
        "    game_hash, empty_cells, turn = env.getState()\n",
        "    agent_1 = Agent(alpha, gamma, N=len(game_hash))\n",
        "    agent_2 = Agent(alpha, gamma, N=len(game_hash))\n",
        "    \n",
        "    \n",
        "\n",
        "    for i in tqdm(range(int(episodes)), disable=not verbose):\n",
        "        Q_learn_step(env, agent_1, agent_2, epsilon)\n",
        "        if (i + 1) % evaluate_every == 0 or i == 0:\n",
        "            res_p1 = evaluate(env, agent_1, agent_2, n=200, p1_mode='agent', p2_mode='random')[0]\n",
        "            res_p2 = evaluate(env, agent_1, agent_2, n=200, p1_mode='random', p2_mode='agent')[1]\n",
        "            \n",
        "            p1_win.append(res_p1)\n",
        "            p2_win.append(res_p2)\n",
        "            \n",
        "            \n",
        "    return agent_1, agent_2, p1_win, p2_win\n",
        "\n",
        "        \n"
      ],
      "id": "6e48f94b-6bb7-4be6-a4a6-7b09098e1b83",
      "execution_count": 7,
      "outputs": []
    },
    {
      "cell_type": "code",
      "metadata": {
        "id": "6e8d4d98-c6ad-4ed0-8664-a8ecf06e0d66"
      },
      "source": [
        "env = TicTacToe(N_ROWS, N_COLS, N_WIN)\n",
        "env.reset()"
      ],
      "id": "6e8d4d98-c6ad-4ed0-8664-a8ecf06e0d66",
      "execution_count": 8,
      "outputs": []
    },
    {
      "cell_type": "code",
      "metadata": {
        "id": "e9479fed-80cb-4bf4-8c4a-59a27ffbe82f"
      },
      "source": [
        "EPOCHS = 1e5"
      ],
      "id": "e9479fed-80cb-4bf4-8c4a-59a27ffbe82f",
      "execution_count": 9,
      "outputs": []
    },
    {
      "cell_type": "code",
      "metadata": {
        "tags": [],
        "colab": {
          "referenced_widgets": [
            "6a70a4a203614dbbac4a606a6665679c",
            "0fce07210cdc412582928302b7ffb06e",
            "420e353e2dc64d76a050863b6c5ce01c",
            "08a74b5c62bd4299976a79d11a2eacff",
            "75623c70af03462d9388d33d956035e7",
            "4d1f2f2a5f9c4f26b1812e1e4af5af56",
            "864d570c68294ed5839406b826131253",
            "40a040cf17614eaeb6c9cf7639c56a25",
            "a869ce4fb56d44edad207eff8ea10597",
            "ff4d9e0fe99d48f595d119c0dad87dd9",
            "06150ead0df645a89068ff511c551901"
          ],
          "base_uri": "https://localhost:8080/",
          "height": 49
        },
        "id": "6e6dcdf3-8262-4fde-9a62-5218db4d9be5",
        "outputId": "8e690e23-39f3-4857-f5c6-91325c5ba30f"
      },
      "source": [
        "a1, a2, p1_stats, p2_stats = Q_learn(env, alpha=0.009, episodes=EPOCHS, verbose=True, epsilon=0.3)"
      ],
      "id": "6e6dcdf3-8262-4fde-9a62-5218db4d9be5",
      "execution_count": 10,
      "outputs": [
        {
          "output_type": "display_data",
          "data": {
            "application/vnd.jupyter.widget-view+json": {
              "model_id": "6a70a4a203614dbbac4a606a6665679c",
              "version_minor": 0,
              "version_major": 2
            },
            "text/plain": [
              "  0%|          | 0/100000 [00:00<?, ?it/s]"
            ]
          },
          "metadata": {}
        }
      ]
    },
    {
      "cell_type": "code",
      "metadata": {
        "id": "2d26c83a-a52b-4880-9f48-b835673be7f1",
        "colab": {
          "base_uri": "https://localhost:8080/"
        },
        "outputId": "a51ae7da-8ca0-45ca-c689-c4d0f89f30f1"
      },
      "source": [
        "# Check both agents, are they trying to win?\n",
        "play(env, a1, a2, p1_mode='agent', p2_mode='agent', verbose=True)"
      ],
      "id": "2d26c83a-a52b-4880-9f48-b835673be7f1",
      "execution_count": 11,
      "outputs": [
        {
          "output_type": "stream",
          "name": "stdout",
          "text": [
            "-------------\n",
            "|   |   |   | \n",
            "-------------\n",
            "|   |   |   | \n",
            "-------------\n",
            "|   |   |   | \n",
            "-------------\n",
            "-------------\n",
            "| x |   |   | \n",
            "-------------\n",
            "|   |   |   | \n",
            "-------------\n",
            "|   |   |   | \n",
            "-------------\n",
            "-------------\n",
            "| x | o |   | \n",
            "-------------\n",
            "|   |   |   | \n",
            "-------------\n",
            "|   |   |   | \n",
            "-------------\n",
            "-------------\n",
            "| x | o | x | \n",
            "-------------\n",
            "|   |   |   | \n",
            "-------------\n",
            "|   |   |   | \n",
            "-------------\n",
            "-------------\n",
            "| x | o | x | \n",
            "-------------\n",
            "| o |   |   | \n",
            "-------------\n",
            "|   |   |   | \n",
            "-------------\n",
            "-------------\n",
            "| x | o | x | \n",
            "-------------\n",
            "| o | x |   | \n",
            "-------------\n",
            "|   |   |   | \n",
            "-------------\n",
            "-------------\n",
            "| x | o | x | \n",
            "-------------\n",
            "| o | x | o | \n",
            "-------------\n",
            "|   |   |   | \n",
            "-------------\n",
            "-------------\n",
            "| x | o | x | \n",
            "-------------\n",
            "| o | x | o | \n",
            "-------------\n",
            "| x |   |   | \n",
            "-------------\n"
          ]
        },
        {
          "output_type": "execute_result",
          "data": {
            "text/plain": [
              "(1, 0)"
            ]
          },
          "metadata": {},
          "execution_count": 11
        }
      ]
    },
    {
      "cell_type": "code",
      "metadata": {
        "id": "0252a88b-d790-4916-bcac-06e31451bf6b",
        "outputId": "530e347e-8c7a-478d-8773-0737489d10e8",
        "colab": {
          "base_uri": "https://localhost:8080/",
          "height": 282
        }
      },
      "source": [
        "plt.plot(list(range(0, int(EPOCHS) + 1, 10 ** 3)), p1_stats)\n",
        "plt.title('Крестики против рандома')\n",
        "plt.xlabel('Доля побед')\n",
        "plt.ylabel('Количество итераций обучения')\n",
        "plt.show()"
      ],
      "id": "0252a88b-d790-4916-bcac-06e31451bf6b",
      "execution_count": 12,
      "outputs": [
        {
          "output_type": "execute_result",
          "data": {
            "text/plain": [
              "[<matplotlib.lines.Line2D at 0x7f57cc79bed0>]"
            ]
          },
          "metadata": {},
          "execution_count": 12
        },
        {
          "output_type": "display_data",
          "data": {
            "image/png": "[encoded data removed]",
            "text/plain": [
              "<Figure size 432x288 with 1 Axes>"
            ]
          },
          "metadata": {
            "needs_background": "light"
          }
        }
      ]
    },
    {
      "cell_type": "code",
      "metadata": {
        "id": "a609c1e6-d3e0-4258-9854-8b980e149f33",
        "outputId": "abebc81b-83c8-4d54-b95e-b09a34328484",
        "colab": {
          "base_uri": "https://localhost:8080/",
          "height": 282
        }
      },
      "source": [
        "plt.plot(list(range(0, int(EPOCHS) + 1, 10 ** 3)), p2_stats)\n",
        "plt.title('Нолики против рандома')\n",
        "plt.xlabel('Доля побед')\n",
        "plt.ylabel('Количество итераций обучения')\n",
        "plt.show()"
      ],
      "id": "a609c1e6-d3e0-4258-9854-8b980e149f33",
      "execution_count": 13,
      "outputs": [
        {
          "output_type": "execute_result",
          "data": {
            "text/plain": [
              "[<matplotlib.lines.Line2D at 0x7f57cc23f4d0>]"
            ]
          },
          "metadata": {},
          "execution_count": 13
        },
        {
          "output_type": "display_data",
          "data": {
            "image/png": "[encoded data removed]",
            "text/plain": [
              "<Figure size 432x288 with 1 Axes>"
            ]
          },
          "metadata": {
            "needs_background": "light"
          }
        }
      ]
    },
    {
      "cell_type": "markdown",
      "metadata": {
        "tags": [],
        "id": "0224ed90-d413-4309-a9f8-8addca2d87cc"
      },
      "source": [
        "## 2. Попробуйте обучить стратегии крестиков и ноликов для доски 4х4 и/или 5х5."
      ],
      "id": "0224ed90-d413-4309-a9f8-8addca2d87cc"
    },
    {
      "cell_type": "code",
      "metadata": {
        "id": "dc79fd82-790a-4547-80c7-2fbacaa462b3"
      },
      "source": [
        "env = TicTacToe(n_rows=4, n_cols=4, n_win=4)\n",
        "env.reset()"
      ],
      "id": "dc79fd82-790a-4547-80c7-2fbacaa462b3",
      "execution_count": 14,
      "outputs": []
    },
    {
      "cell_type": "code",
      "metadata": {
        "id": "9a12e362-2414-4801-9d82-02195d71cc18"
      },
      "source": [
        "EPOCHS = 1e6"
      ],
      "id": "9a12e362-2414-4801-9d82-02195d71cc18",
      "execution_count": 15,
      "outputs": []
    },
    {
      "cell_type": "code",
      "metadata": {
        "colab": {
          "referenced_widgets": [
            "af92e58036eb4a7882ddad7e3365996c",
            "ce096f67d8b248019c70c480d310d6bd",
            "e50007554f2a4685bc1b5c15a5c0dca6",
            "e8b6169ab46c4e06a0c216eb1c5cd49f",
            "12705b22735341fe8a3ae40f81838d2a",
            "8dfe6db92ee1472dbe3caeb5286f6f14",
            "5ca716d1a198485dbfa528fc70e19523",
            "3e90a8fcc0624f01ba9f6d678b74beef",
            "9a90372b9afc421f86aedd979de54d4a",
            "e9dc140f45aa4dbd9b3a5a5c17002ad1",
            "46aee0e23459435090095f21fdb768c0"
          ],
          "base_uri": "https://localhost:8080/",
          "height": 49
        },
        "id": "2717c847-918c-4138-9ea4-868d8ab5e357",
        "outputId": "280c6600-ea30-4019-e855-154a0ba18d1e"
      },
      "source": [
        "a1, a2, p1_stats, p2_stats = Q_learn(env, alpha=0.02, episodes=EPOCHS, verbose=True, epsilon=0.3)"
      ],
      "id": "2717c847-918c-4138-9ea4-868d8ab5e357",
      "execution_count": 16,
      "outputs": [
        {
          "output_type": "display_data",
          "data": {
            "application/vnd.jupyter.widget-view+json": {
              "model_id": "af92e58036eb4a7882ddad7e3365996c",
              "version_minor": 0,
              "version_major": 2
            },
            "text/plain": [
              "  0%|          | 0/1000000 [00:00<?, ?it/s]"
            ]
          },
          "metadata": {}
        }
      ]
    },
    {
      "cell_type": "code",
      "metadata": {
        "id": "f4b70b90-7bc6-401c-918b-8535dc85d688",
        "outputId": "1479cf44-3619-4214-a621-8e168d0fda86",
        "colab": {
          "base_uri": "https://localhost:8080/",
          "height": 295
        }
      },
      "source": [
        "plt.plot(list(range(0, int(EPOCHS + 1), 10 ** 3)), p1_stats)\n",
        "plt.title('Крестики (Х) против рандома')\n",
        "plt.xlabel('Доля побед')\n",
        "plt.ylabel('Количество итераций обучения')\n",
        "plt.show()"
      ],
      "id": "f4b70b90-7bc6-401c-918b-8535dc85d688",
      "execution_count": 17,
      "outputs": [
        {
          "output_type": "execute_result",
          "data": {
            "text/plain": [
              "[<matplotlib.lines.Line2D at 0x7f57cc7e0c90>]"
            ]
          },
          "metadata": {},
          "execution_count": 17
        },
        {
          "output_type": "display_data",
          "data": {
            "image/png": "[encoded data removed]",
            "text/plain": [
              "<Figure size 432x288 with 1 Axes>"
            ]
          },
          "metadata": {
            "needs_background": "light"
          }
        }
      ]
    },
    {
      "cell_type": "code",
      "metadata": {
        "id": "fdc4064c-3361-4bd6-8419-d37c29c12358",
        "outputId": "dc27782d-e659-4a7b-fe58-eff80946499b",
        "colab": {
          "base_uri": "https://localhost:8080/",
          "height": 295
        }
      },
      "source": [
        "plt.plot(list(range(0, int(EPOCHS + 1), 10 ** 3)), p2_stats)\n",
        "plt.title('Нолики (О) против рандома')\n",
        "plt.xlabel('Доля побед')\n",
        "plt.ylabel('Количество итераций обучения')\n",
        "plt.show()"
      ],
      "id": "fdc4064c-3361-4bd6-8419-d37c29c12358",
      "execution_count": 18,
      "outputs": [
        {
          "output_type": "execute_result",
          "data": {
            "text/plain": [
              "[<matplotlib.lines.Line2D at 0x7f57cc7e9110>]"
            ]
          },
          "metadata": {},
          "execution_count": 18
        },
        {
          "output_type": "display_data",
          "data": {
            "image/png": "[encoded data removed]",
            "text/plain": [
              "<Figure size 432x288 with 1 Axes>"
            ]
          },
          "metadata": {
            "needs_background": "light"
          }
        }
      ]
    },
    {
      "cell_type": "markdown",
      "metadata": {
        "id": "40d2bc23-cce8-49ad-9ce7-d57bfa92733d"
      },
      "source": [
        "### Часть вторая: добавим нейронных сетей"
      ],
      "id": "40d2bc23-cce8-49ad-9ce7-d57bfa92733d"
    },
    {
      "cell_type": "markdown",
      "metadata": {
        "id": "a83ac368-89f5-4d3b-9564-0a64357d8429"
      },
      "source": [
        "#### Реализуйте DQN с нейронной сетью, обучите стратегии крестиков и ноликов. Замечание: скорее всего, experience replay потребуется сразу же."
      ],
      "id": "a83ac368-89f5-4d3b-9564-0a64357d8429"
    },
    {
      "cell_type": "code",
      "metadata": {
        "id": "45bc14e3-7492-4044-8612-0b2b64cbad8a"
      },
      "source": [
        "class ReplayMemory():\n",
        "    def __init__(self, capacity):\n",
        "        self.capacity = capacity\n",
        "        self.memory = []\n",
        "        self.position = 0\n",
        "\n",
        "    def store(self, exptuple):\n",
        "        if len(self.memory) < self.capacity:\n",
        "            self.memory.append(None)\n",
        "        self.memory[self.position] = exptuple\n",
        "        self.position = (self.position + 1) % self.capacity\n",
        "       \n",
        "    def sample(self, batch_size):\n",
        "        return random.sample(self.memory, batch_size)\n",
        "    \n",
        "    def __len__(self):\n",
        "        return len(self.memory)\n",
        "    \n",
        "    "
      ],
      "id": "45bc14e3-7492-4044-8612-0b2b64cbad8a",
      "execution_count": 19,
      "outputs": []
    },
    {
      "cell_type": "code",
      "metadata": {
        "id": "124b9b73-b55f-489a-90f9-3caf9e523986"
      },
      "source": [
        "class DQN_3(nn.Module):\n",
        "    def __init__(self, hidden_dim=256, in_chanels=3):\n",
        "        super().__init__()\n",
        "        self.conv1 = nn.Conv2d(in_chanels, hidden_dim, kernel_size=(in_chanels, in_chanels))\n",
        "        self.linear1 = nn.Linear(hidden_dim, hidden_dim)\n",
        "        self.lenear2 = nn.Linear(hidden_dim, in_chanels ** 2)\n",
        "        \n",
        "    def forward(self, x):\n",
        "        y = self.conv1(x)\n",
        "        y = F.relu(y)\n",
        "        y = y.squeeze(-1).squeeze(-1)\n",
        "        y = self.linear1(y)\n",
        "        y = F.relu(y)\n",
        "        y = self.lenear2(y)\n",
        "        return y\n",
        "    \n",
        "    def get_action(self, state):\n",
        "        self.eval()\n",
        "        state = hash_to_tensor(state)\n",
        "        action = self(state.unsqueeze(0)).detach().max(1)[1][0].item()\n",
        "        return action\n",
        "    \n",
        "class DQN_4(nn.Module):\n",
        "    def __init__(self, hidden_dim=64, in_chanels=3):\n",
        "        super().__init__()\n",
        "        self.conv1 = nn.Conv2d(in_chanels, hidden_dim, kernel_size=(3, 3))\n",
        "        self.conv2 = nn.Conv2d(hidden_dim, hidden_dim * 2, kernel_size=(2, 2))\n",
        "        self.linear1 = nn.Linear(hidden_dim * 2, hidden_dim)\n",
        "        self.lenear2 = nn.Linear(hidden_dim, 16)\n",
        "        \n",
        "    def forward(self, x):\n",
        "        y = self.conv1(x)\n",
        "        y = F.relu(y)\n",
        "        y = self.conv2(y)\n",
        "        y = F.relu(y)\n",
        "        y = y.squeeze(-1).squeeze(-1)\n",
        "        y = self.linear1(y)\n",
        "        y = F.relu(y)\n",
        "        y = self.lenear2(y)\n",
        "        return y\n",
        "    \n",
        "    def get_action(self, state):\n",
        "        self.eval()\n",
        "        state = hash_to_tensor(state)\n",
        "        action = self(state.unsqueeze(0)).detach().max(1)[1][0].item()\n",
        "        return action\n",
        "    \n",
        "def hash_to_tensor(s):\n",
        "    s = np.array([int(c) for c in s])\n",
        "    size = int(np.sqrt(len(s)))\n",
        "    crosses = np.where(s==2, 1, 0).reshape(size, size)\n",
        "    zeros = np.where(s==0, 1, 0).reshape(size, size)\n",
        "    empty_spaces = np.where(s==1, 1, 0).reshape(size, size)\n",
        "    return torch.tensor(np.stack([crosses, zeros, empty_spaces]), dtype=torch.float32).reshape(3, size, size)"
      ],
      "id": "124b9b73-b55f-489a-90f9-3caf9e523986",
      "execution_count": 20,
      "outputs": []
    },
    {
      "cell_type": "code",
      "metadata": {
        "id": "0e477c53-de46-4785-aa52-0a5ca98a9ce1"
      },
      "source": [
        "def play_model(env, model_1, model_2, p1_mode='random', p2_mode='random', verbose=False):\n",
        "    env.reset()\n",
        "    game_hash, empty_cells, player_turn = env.getState()\n",
        "    is_finished = False\n",
        "\n",
        "    with torch.no_grad():\n",
        "        while not is_finished:\n",
        "            actions = get_available_actions_from_hash(game_hash)\n",
        "            if player_turn == 1:\n",
        "                if p1_mode == 'random':\n",
        "                    action_idx = random.choice(actions)\n",
        "                elif p1_mode == 'agent':\n",
        "                    action_idx = model_1.get_action(game_hash)\n",
        "            if player_turn == -1:\n",
        "                if p2_mode == 'random':\n",
        "                    action_idx = random.choice(actions)\n",
        "                elif p2_mode == 'agent':\n",
        "                    action_idx = model_2.get_action(game_hash)\n",
        "            action = env.action_from_int(action_idx)\n",
        "\n",
        "            if verbose:\n",
        "                env.printBoard()\n",
        "        \n",
        "            (game_hash, empty_cells, player_turn), reward, is_finished, _ = env.step(action)\n",
        "        \n",
        "    if verbose:\n",
        "            env.printBoard()\n",
        "                    \n",
        "    if reward == 1:\n",
        "        return (1, 0)\n",
        "    elif reward == -1:\n",
        "        return (0, 1)\n",
        "    else:\n",
        "        return (0, 0)\n",
        "\n",
        "def evaluate_model(env, model_1, model_2, n=1000, p1_mode='random', p2_mode='random'):\n",
        "    player1_wins = []\n",
        "    player2_wins = []\n",
        "    for _ in range(n):\n",
        "        r1, r2 = play_model(\n",
        "            env, \n",
        "            model_1, model_2,\n",
        "            p1_mode=p1_mode, \n",
        "            p2_mode=p2_mode\n",
        "        )\n",
        "        player1_wins.append(r1)\n",
        "        player2_wins.append(r2)\n",
        "    w1_p = np.mean(player1_wins)\n",
        "    w2_p = np.mean(player2_wins)\n",
        "    draw = 1 - w1_p - w2_p\n",
        "    return w1_p, w2_p, draw"
      ],
      "id": "0e477c53-de46-4785-aa52-0a5ca98a9ce1",
      "execution_count": 21,
      "outputs": []
    },
    {
      "cell_type": "code",
      "metadata": {
        "id": "4764c298-f391-468a-bb00-98e3833c7a15"
      },
      "source": [
        "class Player:\n",
        "    def __init__(self, memory_capacity=200_000):\n",
        "        self.state = None\n",
        "        self.action = None\n",
        "        self.reward = None\n",
        "        self.memory = ReplayMemory(capacity=memory_capacity)\n",
        "    \n",
        "    def add_replay(self, next_state, action, reward):\n",
        "        \n",
        "        next_state = hash_to_tensor(next_state)\n",
        "        if self.state is not None:\n",
        "            self.memory.store((self.state, next_state, [self.action], [reward]))\n",
        "        self.state = next_state\n",
        "        self.action = action\n",
        "        \n",
        "    def reset(self):\n",
        "        self.state = None\n",
        "        self.action = None   "
      ],
      "id": "4764c298-f391-468a-bb00-98e3833c7a15",
      "execution_count": 22,
      "outputs": []
    },
    {
      "cell_type": "code",
      "metadata": {
        "id": "00e7dc8b-bc3f-4b20-8d45-d6ed3d9d4ffa"
      },
      "source": [
        "# player_dict_example = {\n",
        "#     'model': model,\n",
        "#     'player': player,\n",
        "#     'optimizer': optimizer,\n",
        "# }\n",
        "\n",
        "def get_action(model, game_hash, epsilon):\n",
        "    if random.random() < epsilon:\n",
        "        actions = get_available_actions_from_hash(game_hash)\n",
        "        action = random.choice(actions)\n",
        "    else:\n",
        "        action = model.get_action(game_hash)\n",
        "    return action\n",
        "\n",
        "def train_on_batch(players_dict, player_idx, loss_func, batch_size=128, gamma=1):\n",
        "    player = players_dict[player_idx]['player']\n",
        "    model = players_dict[player_idx]['model']\n",
        "    optimizer = players_dict[player_idx]['optimizer']\n",
        "    \n",
        "    if len(player.memory) < batch_size:\n",
        "        return\n",
        "    \n",
        "    replays = player.memory.sample(batch_size)\n",
        "    batch_state, batch_next_state, batch_action, batch_reward = zip(*replays)\n",
        "    \n",
        "    \n",
        "    batch_state = torch.stack(batch_state)\n",
        "    batch_next_state = torch.stack(batch_next_state)\n",
        "    batch_action = torch.tensor(batch_action, dtype=torch.long)\n",
        "    batch_reward = torch.tensor(batch_reward).flatten()\n",
        "    \n",
        "    model.train()\n",
        "    Q = model(batch_state).gather(1, batch_action).flatten()\n",
        "    Qmax = model(batch_next_state).detach().max(dim=1)[0]\n",
        "    Qnext = batch_reward + (gamma * Qmax)\n",
        "    \n",
        "    loss = loss_func(Q, Qnext)\n",
        "\n",
        "    \n",
        "    loss.backward()\n",
        "    optimizer.step()\n",
        "    optimizer.zero_grad()\n",
        "    return loss.item()\n",
        "\n",
        "\n",
        "def play_episode(env, players_dict, epsilon=0.3):\n",
        "    env.reset()\n",
        "    game_hash, empty_cells, player_turn = env.getState()\n",
        "    is_finished = False\n",
        "    players_dict[1]['player'].reset()\n",
        "    players_dict[-1]['player'].reset()\n",
        "    player_idx = 1\n",
        "    \n",
        "    while not is_finished:\n",
        "        player = players_dict[player_idx]['player']\n",
        "        model = players_dict[player_idx]['model']\n",
        "        action = get_action(model, game_hash, epsilon)\n",
        "        player.add_replay(game_hash, action, 0)\n",
        "        player_idx *= -1\n",
        "        (game_hash, empty_cells, player_turn), reward , is_finished, _ = env.step(env.action_from_int(action))\n",
        "        \n",
        "    if reward == -10:\n",
        "        player.add_replay(game_hash, action, reward)\n",
        "    else:\n",
        "        players_dict[1]['player'].add_replay(game_hash, action, reward)\n",
        "        players_dict[-1]['player'].add_replay(game_hash, action, -reward)"
      ],
      "id": "00e7dc8b-bc3f-4b20-8d45-d6ed3d9d4ffa",
      "execution_count": 23,
      "outputs": []
    },
    {
      "cell_type": "code",
      "metadata": {
        "id": "e1033823-a926-45c1-afda-8a6be4a3cb12"
      },
      "source": [
        "def train(env, epochs, model_1, model_2, opt1, opt2, loss_func, batch_size=256, epsilon=0.3, gamma=1., in_channels=3, eval_every=100):\n",
        "    env.reset()\n",
        "    \n",
        "    player_1 = Player()\n",
        "    player_2 = Player()\n",
        "    player_dict_1 = {\n",
        "        'model': model_1,\n",
        "        'player': player_1,\n",
        "        'optimizer': opt1,\n",
        "    }\n",
        "    player_dict_2 = {\n",
        "        'model': model_2,\n",
        "        'player': player_2,\n",
        "        'optimizer': opt2,\n",
        "    }\n",
        "    players_dict = {1: player_dict_1, -1: player_dict_2}\n",
        "    \n",
        "    results_dict = {\n",
        "        1: defaultdict(list),\n",
        "        2: defaultdict(list)\n",
        "    }\n",
        "    results_dict[2]['iter'] = results_dict[1]['iter'] # For saving memory\n",
        "    for i in tqdm(range(epochs)):\n",
        "        play_episode(env, players_dict, epsilon=epsilon)\n",
        "        \n",
        "        l1 = train_on_batch(players_dict, 1, loss_func=loss_func, batch_size=batch_size, gamma=gamma)\n",
        "        l2 = train_on_batch(players_dict, -1, loss_func=loss_func, batch_size=batch_size, gamma=gamma)\n",
        "        \n",
        "        if l1:\n",
        "            results_dict[1]['loss'].append(l1)\n",
        "        if l2:\n",
        "            results_dict[2]['loss'].append(l2)\n",
        "            \n",
        "        if (i + 1) % eval_every == 0 or i == 0:\n",
        "            res_p1 = evaluate_model(env, model_1, model_2, n=500, p1_mode='agent', p2_mode='random')[0]\n",
        "            res_p2 = evaluate_model(env, model_1, model_2, n=500, p1_mode='random', p2_mode='agent')[1]\n",
        "            \n",
        "            results_dict[1]['eval_wins'].append(res_p1)\n",
        "            results_dict[2]['eval_wins'].append(res_p2)\n",
        "            results_dict[1]['epoch'].append(i)\n",
        "            \n",
        "            # print(f'Epoch {i + 1}\\n X loss: {l1}, X wins: {res_p1}\\n O loss: {l2}, O wins: {res_p2}')\n",
        "            # print('\\n<', '=' * 16, '<\\n')\n",
        "            \n",
        "            \n",
        "    return results_dict\n",
        "    \n",
        "    "
      ],
      "id": "e1033823-a926-45c1-afda-8a6be4a3cb12",
      "execution_count": 24,
      "outputs": []
    },
    {
      "cell_type": "code",
      "metadata": {
        "id": "56bd1ed3-3422-4a55-adcd-2080b9c9cf60"
      },
      "source": [
        "device = torch.device(\"cuda\") if torch.cuda.is_available() else torch.device('cpu')"
      ],
      "id": "56bd1ed3-3422-4a55-adcd-2080b9c9cf60",
      "execution_count": 25,
      "outputs": []
    },
    {
      "cell_type": "markdown",
      "metadata": {
        "id": "c999a415-cb03-435f-b543-22466a06bdbf"
      },
      "source": [
        "#### DQN 3x3x3"
      ],
      "id": "c999a415-cb03-435f-b543-22466a06bdbf"
    },
    {
      "cell_type": "code",
      "metadata": {
        "id": "388c4cc3-1706-4666-b24b-ae5902161112"
      },
      "source": [
        "lr = 5e-6\n",
        "reg_alpha = 9e-7\n",
        "hidden_dim = 256\n",
        "loss_func = F.l1_loss"
      ],
      "id": "388c4cc3-1706-4666-b24b-ae5902161112",
      "execution_count": 26,
      "outputs": []
    },
    {
      "cell_type": "code",
      "metadata": {
        "id": "ec126a5b-78b2-4eae-aa97-b7d80893d6b5"
      },
      "source": [
        "model_1 = DQN_3(in_chanels=3, hidden_dim=hidden_dim)\n",
        "opt1 = optim.Adam(model_1.parameters(), lr=lr, weight_decay=reg_alpha)\n",
        "\n",
        "model_2 = DQN_3(in_chanels=3, hidden_dim=hidden_dim)\n",
        "opt2 = optim.Adam(model_2.parameters(), lr=lr, weight_decay=reg_alpha)"
      ],
      "id": "ec126a5b-78b2-4eae-aa97-b7d80893d6b5",
      "execution_count": 27,
      "outputs": []
    },
    {
      "cell_type": "code",
      "metadata": {
        "id": "827b5cde-19c9-4656-a45a-ba44a99317ed"
      },
      "source": [
        "env = TicTacToe(N_ROWS, N_COLS, N_WIN)\n",
        "env.reset()"
      ],
      "id": "827b5cde-19c9-4656-a45a-ba44a99317ed",
      "execution_count": 28,
      "outputs": []
    },
    {
      "cell_type": "code",
      "metadata": {
        "tags": [],
        "colab": {
          "base_uri": "https://localhost:8080/",
          "height": 49,
          "referenced_widgets": [
            "9bfcf5dc6fb44261ba0e1b587a7dd65d",
            "4ff7bffd5ad348b7b0343b9a3ba410a3",
            "4a02f9e356ad4c27a515694fd81975c9",
            "a2f27190b06f4bf5b1594ba6aaeda0e0",
            "5ccb0752c0fa478db86e418abea211c9",
            "8fafc1647cad4d81981dc2e43f3d5692",
            "bcc3362a64ab457096ef7f8e042c8708",
            "cc6e8d22a9eb4d479bf6eab1df881500",
            "a89ed91573f84f89925f9a2cec1e4f0e",
            "810e6057bc674ef7a04e8e0846c365be",
            "45521226cbc84fd2b63ed273df95dbbf"
          ]
        },
        "id": "451cb99b-75cf-4603-933a-3a643c42a375",
        "outputId": "b5d72737-8d4b-476b-c729-b707f5ce38a6"
      },
      "source": [
        "results = train(env, 15000, model_1, model_2, opt1, opt2, loss_func=loss_func, eval_every=200, epsilon=0.44, batch_size=256)"
      ],
      "id": "451cb99b-75cf-4603-933a-3a643c42a375",
      "execution_count": 29,
      "outputs": [
        {
          "output_type": "display_data",
          "data": {
            "application/vnd.jupyter.widget-view+json": {
              "model_id": "9bfcf5dc6fb44261ba0e1b587a7dd65d",
              "version_minor": 0,
              "version_major": 2
            },
            "text/plain": [
              "  0%|          | 0/15000 [00:00<?, ?it/s]"
            ]
          },
          "metadata": {}
        }
      ]
    },
    {
      "cell_type": "code",
      "metadata": {
        "colab": {
          "base_uri": "https://localhost:8080/",
          "height": 265
        },
        "id": "379d00e5-410a-4f4c-b377-0cf84d795a24",
        "outputId": "381772a7-bbb0-4acf-f1a2-f4929bb8f083"
      },
      "source": [
        "plt.plot(results[1]['epoch'], results[1]['eval_wins'], label='X wins random')\n",
        "plt.plot(results[1]['epoch'], results[2]['eval_wins'], label='O wins random')\n",
        "plt.legend()\n",
        "plt.title('Доля побед обученного агента против рандома')\n",
        "plt.xlabel('Доля побед')\n",
        "plt.ylabel('Количество эпох')\n",
        "plt.show()"
      ],
      "id": "379d00e5-410a-4f4c-b377-0cf84d795a24",
      "execution_count": 30,
      "outputs": [
        {
          "output_type": "display_data",
          "data": {
            "image/png": "[encoded data removed]",
            "text/plain": [
              "<Figure size 432x288 with 1 Axes>"
            ]
          },
          "metadata": {
            "needs_background": "light"
          }
        }
      ]
    },
    {
      "cell_type": "markdown",
      "metadata": {
        "tags": [],
        "id": "0966683d-caaa-430d-8e10-95171bf9b1bd"
      },
      "source": [
        "#### DQN 4x4x4"
      ],
      "id": "0966683d-caaa-430d-8e10-95171bf9b1bd"
    },
    {
      "cell_type": "code",
      "metadata": {
        "id": "e149006b-4cc4-4c07-8e80-849f48529d0a"
      },
      "source": [
        "lr = 5e-6\n",
        "reg_alpha = 9e-7\n",
        "hidden_dim = 128\n",
        "# loss_func = F.l1_loss\n",
        "\n",
        "model_1 = DQN_4(in_chanels=3, hidden_dim=hidden_dim)\n",
        "opt1 = optim.Adam(model_1.parameters(), lr=lr, weight_decay=reg_alpha)\n",
        "\n",
        "model_2 = DQN_4(in_chanels=3, hidden_dim=hidden_dim)\n",
        "opt2 = optim.Adam(model_2.parameters(), lr=lr, weight_decay=reg_alpha)"
      ],
      "id": "e149006b-4cc4-4c07-8e80-849f48529d0a",
      "execution_count": 31,
      "outputs": []
    },
    {
      "cell_type": "code",
      "metadata": {
        "id": "91d071cc-60d7-4d4a-b03d-249dfdcb12f8"
      },
      "source": [
        "env = TicTacToe(4, 4, 4)\n",
        "env.reset()"
      ],
      "id": "91d071cc-60d7-4d4a-b03d-249dfdcb12f8",
      "execution_count": 32,
      "outputs": []
    },
    {
      "cell_type": "code",
      "metadata": {
        "tags": [],
        "colab": {
          "base_uri": "https://localhost:8080/",
          "height": 49,
          "referenced_widgets": [
            "742c5943e5024e2eba5c3062a9a7c119",
            "fb77ad72b99c4a5c9d71f430753842d5",
            "c189502df5a941958e16c0185db14437",
            "056280e21543432f997bb6a76a303b25",
            "1e29e02005ea4aeda6ff351b831ad81e",
            "04cd8697c4cf48b69efc4a09c68e1ebd",
            "ff44de762ab7474d854c36b1d441a843",
            "2022beaee5ba4996a0026bb789091f46",
            "62474388b226461bad1eae48d677ee86",
            "e02e91a4c9f8401691e11d2cc91bf00f",
            "359a0e67863941ba91bd71d1b187601a"
          ]
        },
        "id": "5f7abd06-8b3b-45c6-97a9-be42a2a9b604",
        "outputId": "20e1f812-be82-495b-be7a-cf9d428c8473"
      },
      "source": [
        "results = train(env, 30000, model_1, model_2, opt1, opt2, loss_func=loss_func, eval_every=1000, epsilon=0.4, batch_size=512)"
      ],
      "id": "5f7abd06-8b3b-45c6-97a9-be42a2a9b604",
      "execution_count": 33,
      "outputs": [
        {
          "output_type": "display_data",
          "data": {
            "application/vnd.jupyter.widget-view+json": {
              "model_id": "742c5943e5024e2eba5c3062a9a7c119",
              "version_minor": 0,
              "version_major": 2
            },
            "text/plain": [
              "  0%|          | 0/30000 [00:00<?, ?it/s]"
            ]
          },
          "metadata": {}
        }
      ]
    },
    {
      "cell_type": "code",
      "metadata": {
        "colab": {
          "base_uri": "https://localhost:8080/",
          "height": 265
        },
        "id": "dfe26686-6907-4a61-b4a8-4f4d8b6b6394",
        "outputId": "ff5525e6-bd5b-4806-dadf-2bfb23741c8b"
      },
      "source": [
        "plt.plot(results[1]['epoch'], results[1]['eval_wins'], label='X wins')\n",
        "plt.plot(results[1]['epoch'], results[2]['eval_wins'], label='O wins')\n",
        "plt.title('Доля побед обученного агента против рандома')\n",
        "plt.xlabel('Доля побед')\n",
        "plt.ylabel('Количество эпох')\n",
        "plt.legend()\n",
        "plt.show()"
      ],
      "id": "dfe26686-6907-4a61-b4a8-4f4d8b6b6394",
      "execution_count": 34,
      "outputs": [
        {
          "output_type": "display_data",
          "data": {
            "image/png": "[encoded data removed]",
            "text/plain": [
              "<Figure size 432x288 with 1 Axes>"
            ]
          },
          "metadata": {
            "needs_background": "light"
          }
        }
      ]
    },
    {
      "cell_type": "markdown",
      "source": [
        "### Dueling DQN\n",
        "Реализуйте Double DQN и/или Dueling DQN."
      ],
      "metadata": {
        "id": "8axIaaEydxJu"
      },
      "id": "8axIaaEydxJu"
    },
    {
      "cell_type": "code",
      "metadata": {
        "id": "0909df7e-66c3-4ef7-a7d4-46996e9ab3f7"
      },
      "source": [
        "env = TicTacToe(N_ROWS, N_COLS, N_WIN)\n",
        "env.reset()"
      ],
      "id": "0909df7e-66c3-4ef7-a7d4-46996e9ab3f7",
      "execution_count": 35,
      "outputs": []
    },
    {
      "cell_type": "code",
      "source": [
        "class DuelingDQN_3(nn.Module):\n",
        "    def __init__(self, in_chanels=3, hidden_dim=256):\n",
        "        super().__init__()\n",
        "        self.conv1 = nn.Conv2d(in_channels=in_chanels, out_channels=hidden_dim, kernel_size=(3, 3))\n",
        "    \n",
        "        self.V = nn.Sequential(\n",
        "            nn.Linear(hidden_dim, hidden_dim),\n",
        "            nn.ReLU(),\n",
        "            nn.Linear(hidden_dim, 1),\n",
        "        )\n",
        "        \n",
        "        self.A = nn.Sequential(\n",
        "            nn.Linear(hidden_dim, hidden_dim),\n",
        "            nn.ReLU(),\n",
        "            nn.Linear(hidden_dim, 9),\n",
        "        )\n",
        "        \n",
        "        \n",
        "    def forward(self, x):\n",
        "        x = self.conv1(x)\n",
        "        x = F.relu(x)\n",
        "        x = x.squeeze(-1).squeeze(-1)\n",
        "        A = self.A(x)\n",
        "        V = self.V(x)\n",
        "        Q = V + (A - A.mean(dim=1, keepdim=True).expand(x.size(0), 9))\n",
        "        return Q\n",
        "\n",
        "    def get_action(self, state):\n",
        "        self.eval()\n",
        "        state = hash_to_tensor(state)\n",
        "        action = self(state.unsqueeze(0)).detach().max(1)[1][0].item()\n",
        "        return action"
      ],
      "metadata": {
        "id": "LtGYheDren0C"
      },
      "id": "LtGYheDren0C",
      "execution_count": 36,
      "outputs": []
    },
    {
      "cell_type": "code",
      "source": [
        "lr = 4e-6\n",
        "reg_alpha = 6e-7\n",
        "hidden_dim = 512\n",
        "loss_func = F.l1_loss"
      ],
      "metadata": {
        "id": "J8fkLnY5ioAN"
      },
      "id": "J8fkLnY5ioAN",
      "execution_count": 41,
      "outputs": []
    },
    {
      "cell_type": "code",
      "source": [
        "model_1 = DuelingDQN_3(in_chanels=3, hidden_dim=hidden_dim)\n",
        "opt1 = optim.Adam(model_1.parameters(), lr=lr, weight_decay=reg_alpha)\n",
        "\n",
        "model_2 = DuelingDQN_3(in_chanels=3, hidden_dim=hidden_dim)\n",
        "opt2 = optim.Adam(model_2.parameters(), lr=lr, weight_decay=reg_alpha)"
      ],
      "metadata": {
        "id": "95_wzuQ-fxaJ"
      },
      "id": "95_wzuQ-fxaJ",
      "execution_count": 42,
      "outputs": []
    },
    {
      "cell_type": "code",
      "source": [
        "results = train(env, 37113, model_1, model_2, opt1, opt2, loss_func=loss_func, eval_every=1000, epsilon=0.4, batch_size=512)"
      ],
      "metadata": {
        "colab": {
          "base_uri": "https://localhost:8080/",
          "height": 49,
          "referenced_widgets": [
            "5bc35dc423cb48508aaa0396e63d95cb",
            "16d4107774f64f60910a5aa1fdc46bbe",
            "4ee4e30c511b47b7b9da67631edda983",
            "ae5e8b484ac247218952da3528b28ff3",
            "b9e24f4812ad4c129350d5655525d054",
            "3d49f80795fa47efa9afc2c55a58d401",
            "3a7dc0cb20494b1cb6a705326598f9f0",
            "1ae308ace3e74d8380efed74209f068c",
            "0ed4094998a34effbaca6c37c3dfb43a",
            "f935599d4e154aa182aebaff53e213a4",
            "db16bca43a2b47679809cfdc099d35d1"
          ]
        },
        "id": "cBQHc2vdgA8z",
        "outputId": "98857ffa-8f93-4102-aa7e-74e4166ac982"
      },
      "id": "cBQHc2vdgA8z",
      "execution_count": 43,
      "outputs": [
        {
          "output_type": "display_data",
          "data": {
            "application/vnd.jupyter.widget-view+json": {
              "model_id": "5bc35dc423cb48508aaa0396e63d95cb",
              "version_minor": 0,
              "version_major": 2
            },
            "text/plain": [
              "  0%|          | 0/37113 [00:00<?, ?it/s]"
            ]
          },
          "metadata": {}
        }
      ]
    },
    {
      "cell_type": "code",
      "source": [
        "plt.plot(results[1]['epoch'], results[1]['eval_wins'], label='X wins')\n",
        "plt.plot(results[1]['epoch'], results[2]['eval_wins'], label='O wins')\n",
        "plt.title('Доля побед обученного агента против рандома')\n",
        "plt.xlabel('Доля побед')\n",
        "plt.ylabel('Количество эпох')\n",
        "plt.legend()\n",
        "plt.show()"
      ],
      "metadata": {
        "colab": {
          "base_uri": "https://localhost:8080/",
          "height": 295
        },
        "id": "M4sk6202h7Fu",
        "outputId": "67039f83-cefb-49d9-a7a7-b97b0914a605"
      },
      "id": "M4sk6202h7Fu",
      "execution_count": 44,
      "outputs": [
        {
          "output_type": "display_data",
          "data": {
            "image/png": "[encoded data removed]",
            "text/plain": [
              "<Figure size 432x288 with 1 Axes>"
            ]
          },
          "metadata": {
            "needs_background": "light"
          }
        }
      ]
    },
    {
      "cell_type": "markdown",
      "source": [
        "Выводы:\n",
        "\n",
        "\n",
        "1.   Очевидно методы с использованием нейронных сетей показали себя намного лучше, но Q метод на основе статистики показал сравнимый результат хоть так и не смог догнать методы с использованием нейросетей.\n",
        "2.   Все обучается очень долго, надо было параллелить как вы и рекомендовали.\n",
        "\n",
        "\n",
        "P.S. Простите, дальше я не осилил по причине нехватки времени, хотя и так жутко стыдно."
      ],
      "metadata": {
        "id": "cfRxr0phugnO"
      },
      "id": "cfRxr0phugnO"
    }
  ]
}